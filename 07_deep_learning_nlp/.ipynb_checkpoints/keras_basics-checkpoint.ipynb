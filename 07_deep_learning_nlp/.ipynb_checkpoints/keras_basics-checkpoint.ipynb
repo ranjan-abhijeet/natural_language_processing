{
 "cells": [
  {
   "cell_type": "code",
   "execution_count": 1,
   "id": "2db71c4b-20cc-4063-b0f9-9b3fe6eb910b",
   "metadata": {},
   "outputs": [],
   "source": [
    "import numpy as np"
   ]
  },
  {
   "cell_type": "code",
   "execution_count": 2,
   "id": "fdd932f8-5d99-4aea-8b8d-f508a2b2b9f7",
   "metadata": {},
   "outputs": [],
   "source": [
    "from sklearn.datasets import load_iris"
   ]
  },
  {
   "cell_type": "code",
   "execution_count": 3,
   "id": "ac61447d-1473-4f56-9a7f-4774856f5321",
   "metadata": {},
   "outputs": [],
   "source": [
    "iris = load_iris()"
   ]
  },
  {
   "cell_type": "code",
   "execution_count": 8,
   "id": "b0943e2d-59ba-4330-abb7-f1cdfcff3603",
   "metadata": {},
   "outputs": [
    {
     "data": {
      "text/plain": [
       "'\\nInfo\\nNumber of Instances: 150 (50 in each of three classes)\\n    :Number of Attributes: 4 numeric, predictive attributes and the class\\n    :Attribute Information:\\n        - sepal length in cm\\n        - sepal width in cm\\n        - petal length in cm\\n        - petal width in cm\\n        - class:\\n                - Iris-Setosa\\n                - Iris-Versicolour\\n                - Iris-Virginica\\n'"
      ]
     },
     "execution_count": 8,
     "metadata": {},
     "output_type": "execute_result"
    }
   ],
   "source": [
    "\"\"\"\n",
    "Info\n",
    "Number of Instances: 150 (50 in each of three classes)\n",
    "    :Number of Attributes: 4 numeric, predictive attributes and the class\n",
    "    :Attribute Information:\n",
    "        - sepal length in cm\n",
    "        - sepal width in cm\n",
    "        - petal length in cm\n",
    "        - petal width in cm\n",
    "        - class:\n",
    "                - Iris-Setosa\n",
    "                - Iris-Versicolour\n",
    "                - Iris-Virginica\n",
    "\"\"\""
   ]
  },
  {
   "cell_type": "code",
   "execution_count": 9,
   "id": "3f920322-5f1d-47ab-98c9-ea6bd709a399",
   "metadata": {},
   "outputs": [],
   "source": [
    "X = iris.data"
   ]
  },
  {
   "cell_type": "code",
   "execution_count": 10,
   "id": "36e99d93-9be7-4ab8-b21c-196b10ecdf3e",
   "metadata": {},
   "outputs": [],
   "source": [
    "y = iris.target"
   ]
  },
  {
   "cell_type": "code",
   "execution_count": 12,
   "id": "491beb2f-a5e5-40b5-b2e0-48bf0d18c817",
   "metadata": {},
   "outputs": [
    {
     "data": {
      "text/plain": [
       "'\\nOne hot encoding the data\\nclass 0 --> [1, 0, 0]\\nclass 1 --> [0, 1, 0]\\nclass 2 --> [0, 0, 1]\\n'"
      ]
     },
     "execution_count": 12,
     "metadata": {},
     "output_type": "execute_result"
    }
   ],
   "source": [
    "\"\"\"\n",
    "One hot encoding the data\n",
    "class 0 --> [1, 0, 0]\n",
    "class 1 --> [0, 1, 0]\n",
    "class 2 --> [0, 0, 1]\n",
    "\"\"\""
   ]
  },
  {
   "cell_type": "code",
   "execution_count": 15,
   "id": "6fbee5d0-44bb-447d-a246-14942eb401aa",
   "metadata": {},
   "outputs": [
    {
     "name": "stderr",
     "output_type": "stream",
     "text": [
      "2023-01-18 14:31:45.495584: I tensorflow/core/platform/cpu_feature_guard.cc:193] This TensorFlow binary is optimized with oneAPI Deep Neural Network Library (oneDNN) to use the following CPU instructions in performance-critical operations:  AVX2 FMA\n",
      "To enable them in other operations, rebuild TensorFlow with the appropriate compiler flags.\n",
      "2023-01-18 14:31:45.838201: W tensorflow/compiler/xla/stream_executor/platform/default/dso_loader.cc:64] Could not load dynamic library 'libcudart.so.11.0'; dlerror: libcudart.so.11.0: cannot open shared object file: No such file or directory\n",
      "2023-01-18 14:31:45.838240: I tensorflow/compiler/xla/stream_executor/cuda/cudart_stub.cc:29] Ignore above cudart dlerror if you do not have a GPU set up on your machine.\n",
      "2023-01-18 14:31:46.754813: W tensorflow/compiler/xla/stream_executor/platform/default/dso_loader.cc:64] Could not load dynamic library 'libnvinfer.so.7'; dlerror: libnvinfer.so.7: cannot open shared object file: No such file or directory\n",
      "2023-01-18 14:31:46.755132: W tensorflow/compiler/xla/stream_executor/platform/default/dso_loader.cc:64] Could not load dynamic library 'libnvinfer_plugin.so.7'; dlerror: libnvinfer_plugin.so.7: cannot open shared object file: No such file or directory\n",
      "2023-01-18 14:31:46.755160: W tensorflow/compiler/tf2tensorrt/utils/py_utils.cc:38] TF-TRT Warning: Cannot dlopen some TensorRT libraries. If you would like to use Nvidia GPU with TensorRT, please make sure the missing libraries mentioned above are installed properly.\n"
     ]
    }
   ],
   "source": [
    "from keras.utils import to_categorical"
   ]
  },
  {
   "cell_type": "code",
   "execution_count": 16,
   "id": "85b6879a-c00d-493e-85cf-696bb8788e2e",
   "metadata": {},
   "outputs": [],
   "source": [
    "y = to_categorical(y)"
   ]
  },
  {
   "cell_type": "code",
   "execution_count": 18,
   "id": "58b0cea0-5e86-4e23-9724-c6b9fe207074",
   "metadata": {},
   "outputs": [],
   "source": [
    "from sklearn.model_selection import train_test_split"
   ]
  },
  {
   "cell_type": "code",
   "execution_count": 19,
   "id": "4b5af7a2-c650-486c-8558-6e5943d5418e",
   "metadata": {},
   "outputs": [],
   "source": [
    "X_train, X_test, y_train, y_test = train_test_split(X, y, test_size=0.30, random_state=2)"
   ]
  },
  {
   "cell_type": "code",
   "execution_count": 21,
   "id": "3cfda532-6503-4c7c-baa1-bf35694585e6",
   "metadata": {},
   "outputs": [],
   "source": [
    "from sklearn.preprocessing import MinMaxScaler"
   ]
  },
  {
   "cell_type": "code",
   "execution_count": 22,
   "id": "180d7e20-2139-449c-a8fb-c771a16b273f",
   "metadata": {},
   "outputs": [],
   "source": [
    "scaler_object = MinMaxScaler()"
   ]
  },
  {
   "cell_type": "code",
   "execution_count": 23,
   "id": "d7e34212-2127-4c7f-9974-776973044f0f",
   "metadata": {},
   "outputs": [
    {
     "data": {
      "text/html": [
       "<style>#sk-container-id-1 {color: black;background-color: white;}#sk-container-id-1 pre{padding: 0;}#sk-container-id-1 div.sk-toggleable {background-color: white;}#sk-container-id-1 label.sk-toggleable__label {cursor: pointer;display: block;width: 100%;margin-bottom: 0;padding: 0.3em;box-sizing: border-box;text-align: center;}#sk-container-id-1 label.sk-toggleable__label-arrow:before {content: \"▸\";float: left;margin-right: 0.25em;color: #696969;}#sk-container-id-1 label.sk-toggleable__label-arrow:hover:before {color: black;}#sk-container-id-1 div.sk-estimator:hover label.sk-toggleable__label-arrow:before {color: black;}#sk-container-id-1 div.sk-toggleable__content {max-height: 0;max-width: 0;overflow: hidden;text-align: left;background-color: #f0f8ff;}#sk-container-id-1 div.sk-toggleable__content pre {margin: 0.2em;color: black;border-radius: 0.25em;background-color: #f0f8ff;}#sk-container-id-1 input.sk-toggleable__control:checked~div.sk-toggleable__content {max-height: 200px;max-width: 100%;overflow: auto;}#sk-container-id-1 input.sk-toggleable__control:checked~label.sk-toggleable__label-arrow:before {content: \"▾\";}#sk-container-id-1 div.sk-estimator input.sk-toggleable__control:checked~label.sk-toggleable__label {background-color: #d4ebff;}#sk-container-id-1 div.sk-label input.sk-toggleable__control:checked~label.sk-toggleable__label {background-color: #d4ebff;}#sk-container-id-1 input.sk-hidden--visually {border: 0;clip: rect(1px 1px 1px 1px);clip: rect(1px, 1px, 1px, 1px);height: 1px;margin: -1px;overflow: hidden;padding: 0;position: absolute;width: 1px;}#sk-container-id-1 div.sk-estimator {font-family: monospace;background-color: #f0f8ff;border: 1px dotted black;border-radius: 0.25em;box-sizing: border-box;margin-bottom: 0.5em;}#sk-container-id-1 div.sk-estimator:hover {background-color: #d4ebff;}#sk-container-id-1 div.sk-parallel-item::after {content: \"\";width: 100%;border-bottom: 1px solid gray;flex-grow: 1;}#sk-container-id-1 div.sk-label:hover label.sk-toggleable__label {background-color: #d4ebff;}#sk-container-id-1 div.sk-serial::before {content: \"\";position: absolute;border-left: 1px solid gray;box-sizing: border-box;top: 0;bottom: 0;left: 50%;z-index: 0;}#sk-container-id-1 div.sk-serial {display: flex;flex-direction: column;align-items: center;background-color: white;padding-right: 0.2em;padding-left: 0.2em;position: relative;}#sk-container-id-1 div.sk-item {position: relative;z-index: 1;}#sk-container-id-1 div.sk-parallel {display: flex;align-items: stretch;justify-content: center;background-color: white;position: relative;}#sk-container-id-1 div.sk-item::before, #sk-container-id-1 div.sk-parallel-item::before {content: \"\";position: absolute;border-left: 1px solid gray;box-sizing: border-box;top: 0;bottom: 0;left: 50%;z-index: -1;}#sk-container-id-1 div.sk-parallel-item {display: flex;flex-direction: column;z-index: 1;position: relative;background-color: white;}#sk-container-id-1 div.sk-parallel-item:first-child::after {align-self: flex-end;width: 50%;}#sk-container-id-1 div.sk-parallel-item:last-child::after {align-self: flex-start;width: 50%;}#sk-container-id-1 div.sk-parallel-item:only-child::after {width: 0;}#sk-container-id-1 div.sk-dashed-wrapped {border: 1px dashed gray;margin: 0 0.4em 0.5em 0.4em;box-sizing: border-box;padding-bottom: 0.4em;background-color: white;}#sk-container-id-1 div.sk-label label {font-family: monospace;font-weight: bold;display: inline-block;line-height: 1.2em;}#sk-container-id-1 div.sk-label-container {text-align: center;}#sk-container-id-1 div.sk-container {/* jupyter's `normalize.less` sets `[hidden] { display: none; }` but bootstrap.min.css set `[hidden] { display: none !important; }` so we also need the `!important` here to be able to override the default hidden behavior on the sphinx rendered scikit-learn.org. See: https://github.com/scikit-learn/scikit-learn/issues/21755 */display: inline-block !important;position: relative;}#sk-container-id-1 div.sk-text-repr-fallback {display: none;}</style><div id=\"sk-container-id-1\" class=\"sk-top-container\"><div class=\"sk-text-repr-fallback\"><pre>MinMaxScaler()</pre><b>In a Jupyter environment, please rerun this cell to show the HTML representation or trust the notebook. <br />On GitHub, the HTML representation is unable to render, please try loading this page with nbviewer.org.</b></div><div class=\"sk-container\" hidden><div class=\"sk-item\"><div class=\"sk-estimator sk-toggleable\"><input class=\"sk-toggleable__control sk-hidden--visually\" id=\"sk-estimator-id-1\" type=\"checkbox\" checked><label for=\"sk-estimator-id-1\" class=\"sk-toggleable__label sk-toggleable__label-arrow\">MinMaxScaler</label><div class=\"sk-toggleable__content\"><pre>MinMaxScaler()</pre></div></div></div></div></div>"
      ],
      "text/plain": [
       "MinMaxScaler()"
      ]
     },
     "execution_count": 23,
     "metadata": {},
     "output_type": "execute_result"
    }
   ],
   "source": [
    "scaler_object.fit(X_train)"
   ]
  },
  {
   "cell_type": "code",
   "execution_count": 24,
   "id": "c9ba121a-7d85-4b16-a90a-8754f9f86a17",
   "metadata": {},
   "outputs": [],
   "source": [
    "scaled_X_train = scaler_object.transform(X_train)"
   ]
  },
  {
   "cell_type": "code",
   "execution_count": 25,
   "id": "0f041071-cdc7-4681-b116-33cf67c7195a",
   "metadata": {},
   "outputs": [],
   "source": [
    "scaled_X_test = scaler_object.transform(X_test)"
   ]
  },
  {
   "cell_type": "code",
   "execution_count": 26,
   "id": "b6a975a8-5cc1-4c08-a454-d02930eae916",
   "metadata": {},
   "outputs": [],
   "source": [
    "from keras.models import Sequential\n",
    "from keras.layers import Dense"
   ]
  },
  {
   "cell_type": "code",
   "execution_count": 31,
   "id": "280e8384-aac3-40ba-b9f9-73563da67f91",
   "metadata": {},
   "outputs": [],
   "source": [
    "model = Sequential()\n",
    "model.add(Dense(units=8,input_dim=4, activation='relu'))\n",
    "model.add(Dense(units=8, activation='relu'))\n",
    "model.add(Dense(units=3, activation='softmax'))\n",
    "model.compile(loss='categorical_crossentropy', optimizer='adam', metrics=['accuracy'])"
   ]
  },
  {
   "cell_type": "code",
   "execution_count": 32,
   "id": "dc41be01-d619-4506-8954-11da04855fb1",
   "metadata": {},
   "outputs": [
    {
     "name": "stdout",
     "output_type": "stream",
     "text": [
      "Model: \"sequential_2\"\n",
      "_________________________________________________________________\n",
      " Layer (type)                Output Shape              Param #   \n",
      "=================================================================\n",
      " dense_4 (Dense)             (None, 8)                 40        \n",
      "                                                                 \n",
      " dense_5 (Dense)             (None, 8)                 72        \n",
      "                                                                 \n",
      " dense_6 (Dense)             (None, 3)                 27        \n",
      "                                                                 \n",
      "=================================================================\n",
      "Total params: 139\n",
      "Trainable params: 139\n",
      "Non-trainable params: 0\n",
      "_________________________________________________________________\n"
     ]
    }
   ],
   "source": [
    "model.summary()"
   ]
  },
  {
   "cell_type": "code",
   "execution_count": 33,
   "id": "d325ff3b-693d-4979-8773-c80eefd7d121",
   "metadata": {},
   "outputs": [
    {
     "name": "stdout",
     "output_type": "stream",
     "text": [
      "Epoch 1/250\n",
      "4/4 [==============================] - 1s 3ms/step - loss: 1.2247 - accuracy: 0.3333\n",
      "Epoch 2/250\n",
      "4/4 [==============================] - 0s 3ms/step - loss: 1.2135 - accuracy: 0.3333\n",
      "Epoch 3/250\n",
      "4/4 [==============================] - 0s 3ms/step - loss: 1.2044 - accuracy: 0.3619\n",
      "Epoch 4/250\n",
      "4/4 [==============================] - 0s 3ms/step - loss: 1.1958 - accuracy: 0.4476\n",
      "Epoch 5/250\n",
      "4/4 [==============================] - 0s 3ms/step - loss: 1.1860 - accuracy: 0.4095\n",
      "Epoch 6/250\n",
      "4/4 [==============================] - 0s 3ms/step - loss: 1.1773 - accuracy: 0.3714\n",
      "Epoch 7/250\n",
      "4/4 [==============================] - 0s 3ms/step - loss: 1.1706 - accuracy: 0.3524\n",
      "Epoch 8/250\n",
      "4/4 [==============================] - 0s 2ms/step - loss: 1.1625 - accuracy: 0.3619\n",
      "Epoch 9/250\n",
      "4/4 [==============================] - 0s 3ms/step - loss: 1.1562 - accuracy: 0.3524\n",
      "Epoch 10/250\n",
      "4/4 [==============================] - 0s 4ms/step - loss: 1.1498 - accuracy: 0.3333\n",
      "Epoch 11/250\n",
      "4/4 [==============================] - 0s 2ms/step - loss: 1.1438 - accuracy: 0.3333\n",
      "Epoch 12/250\n",
      "4/4 [==============================] - 0s 3ms/step - loss: 1.1376 - accuracy: 0.3333\n",
      "Epoch 13/250\n",
      "4/4 [==============================] - 0s 3ms/step - loss: 1.1312 - accuracy: 0.3333\n",
      "Epoch 14/250\n",
      "4/4 [==============================] - 0s 2ms/step - loss: 1.1247 - accuracy: 0.3333\n",
      "Epoch 15/250\n",
      "4/4 [==============================] - 0s 3ms/step - loss: 1.1177 - accuracy: 0.3333\n",
      "Epoch 16/250\n",
      "4/4 [==============================] - 0s 3ms/step - loss: 1.1107 - accuracy: 0.3333\n",
      "Epoch 17/250\n",
      "4/4 [==============================] - 0s 3ms/step - loss: 1.1034 - accuracy: 0.3333\n",
      "Epoch 18/250\n",
      "4/4 [==============================] - 0s 4ms/step - loss: 1.0958 - accuracy: 0.3333\n",
      "Epoch 19/250\n",
      "4/4 [==============================] - 0s 4ms/step - loss: 1.0887 - accuracy: 0.3333\n",
      "Epoch 20/250\n",
      "4/4 [==============================] - 0s 4ms/step - loss: 1.0815 - accuracy: 0.3333\n",
      "Epoch 21/250\n",
      "4/4 [==============================] - 0s 3ms/step - loss: 1.0747 - accuracy: 0.3333\n",
      "Epoch 22/250\n",
      "4/4 [==============================] - 0s 4ms/step - loss: 1.0677 - accuracy: 0.3333\n",
      "Epoch 23/250\n",
      "4/4 [==============================] - 0s 4ms/step - loss: 1.0609 - accuracy: 0.3333\n",
      "Epoch 24/250\n",
      "4/4 [==============================] - 0s 4ms/step - loss: 1.0534 - accuracy: 0.3333\n",
      "Epoch 25/250\n",
      "4/4 [==============================] - 0s 3ms/step - loss: 1.0472 - accuracy: 0.3333\n",
      "Epoch 26/250\n",
      "4/4 [==============================] - 0s 4ms/step - loss: 1.0401 - accuracy: 0.3333\n",
      "Epoch 27/250\n",
      "4/4 [==============================] - 0s 4ms/step - loss: 1.0335 - accuracy: 0.3333\n",
      "Epoch 28/250\n",
      "4/4 [==============================] - 0s 6ms/step - loss: 1.0271 - accuracy: 0.3333\n",
      "Epoch 29/250\n",
      "4/4 [==============================] - 0s 5ms/step - loss: 1.0200 - accuracy: 0.3333\n",
      "Epoch 30/250\n",
      "4/4 [==============================] - 0s 4ms/step - loss: 1.0140 - accuracy: 0.3333\n",
      "Epoch 31/250\n",
      "4/4 [==============================] - 0s 4ms/step - loss: 1.0075 - accuracy: 0.3333\n",
      "Epoch 32/250\n",
      "4/4 [==============================] - 0s 10ms/step - loss: 1.0008 - accuracy: 0.3333\n",
      "Epoch 33/250\n",
      "4/4 [==============================] - 0s 6ms/step - loss: 0.9943 - accuracy: 0.3429\n",
      "Epoch 34/250\n",
      "4/4 [==============================] - 0s 7ms/step - loss: 0.9882 - accuracy: 0.3524\n",
      "Epoch 35/250\n",
      "4/4 [==============================] - 0s 4ms/step - loss: 0.9815 - accuracy: 0.3619\n",
      "Epoch 36/250\n",
      "4/4 [==============================] - 0s 5ms/step - loss: 0.9750 - accuracy: 0.3619\n",
      "Epoch 37/250\n",
      "4/4 [==============================] - 0s 8ms/step - loss: 0.9685 - accuracy: 0.3905\n",
      "Epoch 38/250\n",
      "4/4 [==============================] - 0s 6ms/step - loss: 0.9622 - accuracy: 0.4286\n",
      "Epoch 39/250\n",
      "4/4 [==============================] - 0s 5ms/step - loss: 0.9557 - accuracy: 0.4571\n",
      "Epoch 40/250\n",
      "4/4 [==============================] - 0s 5ms/step - loss: 0.9487 - accuracy: 0.5905\n",
      "Epoch 41/250\n",
      "4/4 [==============================] - 0s 6ms/step - loss: 0.9423 - accuracy: 0.6381\n",
      "Epoch 42/250\n",
      "4/4 [==============================] - 0s 8ms/step - loss: 0.9355 - accuracy: 0.6000\n",
      "Epoch 43/250\n",
      "4/4 [==============================] - 0s 5ms/step - loss: 0.9291 - accuracy: 0.5905\n",
      "Epoch 44/250\n",
      "4/4 [==============================] - 0s 5ms/step - loss: 0.9226 - accuracy: 0.6000\n",
      "Epoch 45/250\n",
      "4/4 [==============================] - 0s 5ms/step - loss: 0.9162 - accuracy: 0.6286\n",
      "Epoch 46/250\n",
      "4/4 [==============================] - 0s 4ms/step - loss: 0.9097 - accuracy: 0.6762\n",
      "Epoch 47/250\n",
      "4/4 [==============================] - 0s 4ms/step - loss: 0.9031 - accuracy: 0.6857\n",
      "Epoch 48/250\n",
      "4/4 [==============================] - 0s 4ms/step - loss: 0.8964 - accuracy: 0.7048\n",
      "Epoch 49/250\n",
      "4/4 [==============================] - 0s 3ms/step - loss: 0.8901 - accuracy: 0.6762\n",
      "Epoch 50/250\n",
      "4/4 [==============================] - 0s 3ms/step - loss: 0.8836 - accuracy: 0.6857\n",
      "Epoch 51/250\n",
      "4/4 [==============================] - 0s 4ms/step - loss: 0.8771 - accuracy: 0.6762\n",
      "Epoch 52/250\n",
      "4/4 [==============================] - 0s 3ms/step - loss: 0.8706 - accuracy: 0.6762\n",
      "Epoch 53/250\n",
      "4/4 [==============================] - 0s 4ms/step - loss: 0.8642 - accuracy: 0.6762\n",
      "Epoch 54/250\n",
      "4/4 [==============================] - 0s 3ms/step - loss: 0.8578 - accuracy: 0.6762\n",
      "Epoch 55/250\n",
      "4/4 [==============================] - 0s 3ms/step - loss: 0.8518 - accuracy: 0.6762\n",
      "Epoch 56/250\n",
      "4/4 [==============================] - 0s 3ms/step - loss: 0.8458 - accuracy: 0.6667\n",
      "Epoch 57/250\n",
      "4/4 [==============================] - 0s 4ms/step - loss: 0.8395 - accuracy: 0.6667\n",
      "Epoch 58/250\n",
      "4/4 [==============================] - 0s 3ms/step - loss: 0.8330 - accuracy: 0.6667\n",
      "Epoch 59/250\n",
      "4/4 [==============================] - 0s 4ms/step - loss: 0.8270 - accuracy: 0.6667\n",
      "Epoch 60/250\n",
      "4/4 [==============================] - 0s 4ms/step - loss: 0.8202 - accuracy: 0.6667\n",
      "Epoch 61/250\n",
      "4/4 [==============================] - 0s 3ms/step - loss: 0.8129 - accuracy: 0.6667\n",
      "Epoch 62/250\n",
      "4/4 [==============================] - 0s 3ms/step - loss: 0.8060 - accuracy: 0.6667\n",
      "Epoch 63/250\n",
      "4/4 [==============================] - 0s 3ms/step - loss: 0.7989 - accuracy: 0.6667\n",
      "Epoch 64/250\n",
      "4/4 [==============================] - 0s 4ms/step - loss: 0.7919 - accuracy: 0.6667\n",
      "Epoch 65/250\n",
      "4/4 [==============================] - 0s 6ms/step - loss: 0.7853 - accuracy: 0.6667\n",
      "Epoch 66/250\n",
      "4/4 [==============================] - 0s 5ms/step - loss: 0.7786 - accuracy: 0.6667\n",
      "Epoch 67/250\n",
      "4/4 [==============================] - 0s 5ms/step - loss: 0.7717 - accuracy: 0.6667\n",
      "Epoch 68/250\n",
      "4/4 [==============================] - 0s 3ms/step - loss: 0.7648 - accuracy: 0.6667\n",
      "Epoch 69/250\n",
      "4/4 [==============================] - 0s 5ms/step - loss: 0.7578 - accuracy: 0.6667\n",
      "Epoch 70/250\n",
      "4/4 [==============================] - 0s 5ms/step - loss: 0.7506 - accuracy: 0.6667\n",
      "Epoch 71/250\n",
      "4/4 [==============================] - 0s 3ms/step - loss: 0.7427 - accuracy: 0.6667\n",
      "Epoch 72/250\n",
      "4/4 [==============================] - 0s 4ms/step - loss: 0.7341 - accuracy: 0.6667\n",
      "Epoch 73/250\n",
      "4/4 [==============================] - 0s 4ms/step - loss: 0.7257 - accuracy: 0.6667\n",
      "Epoch 74/250\n",
      "4/4 [==============================] - 0s 4ms/step - loss: 0.7168 - accuracy: 0.6667\n",
      "Epoch 75/250\n",
      "4/4 [==============================] - 0s 7ms/step - loss: 0.7079 - accuracy: 0.6762\n",
      "Epoch 76/250\n",
      "4/4 [==============================] - 0s 5ms/step - loss: 0.6995 - accuracy: 0.6857\n",
      "Epoch 77/250\n",
      "4/4 [==============================] - 0s 4ms/step - loss: 0.6911 - accuracy: 0.6857\n",
      "Epoch 78/250\n",
      "4/4 [==============================] - 0s 5ms/step - loss: 0.6830 - accuracy: 0.6952\n",
      "Epoch 79/250\n",
      "4/4 [==============================] - 0s 4ms/step - loss: 0.6745 - accuracy: 0.6952\n",
      "Epoch 80/250\n",
      "4/4 [==============================] - 0s 4ms/step - loss: 0.6659 - accuracy: 0.6952\n",
      "Epoch 81/250\n",
      "4/4 [==============================] - 0s 3ms/step - loss: 0.6581 - accuracy: 0.6952\n",
      "Epoch 82/250\n",
      "4/4 [==============================] - 0s 4ms/step - loss: 0.6500 - accuracy: 0.7048\n",
      "Epoch 83/250\n",
      "4/4 [==============================] - 0s 3ms/step - loss: 0.6414 - accuracy: 0.7048\n",
      "Epoch 84/250\n",
      "4/4 [==============================] - 0s 4ms/step - loss: 0.6339 - accuracy: 0.7524\n",
      "Epoch 85/250\n",
      "4/4 [==============================] - 0s 3ms/step - loss: 0.6254 - accuracy: 0.7714\n",
      "Epoch 86/250\n",
      "4/4 [==============================] - 0s 3ms/step - loss: 0.6179 - accuracy: 0.7714\n",
      "Epoch 87/250\n",
      "4/4 [==============================] - 0s 3ms/step - loss: 0.6101 - accuracy: 0.7429\n",
      "Epoch 88/250\n",
      "4/4 [==============================] - 0s 3ms/step - loss: 0.6025 - accuracy: 0.7524\n",
      "Epoch 89/250\n",
      "4/4 [==============================] - 0s 4ms/step - loss: 0.5947 - accuracy: 0.8000\n",
      "Epoch 90/250\n",
      "4/4 [==============================] - 0s 3ms/step - loss: 0.5876 - accuracy: 0.8095\n",
      "Epoch 91/250\n",
      "4/4 [==============================] - 0s 4ms/step - loss: 0.5815 - accuracy: 0.7810\n",
      "Epoch 92/250\n",
      "4/4 [==============================] - 0s 3ms/step - loss: 0.5733 - accuracy: 0.7810\n",
      "Epoch 93/250\n",
      "4/4 [==============================] - 0s 3ms/step - loss: 0.5664 - accuracy: 0.8000\n",
      "Epoch 94/250\n",
      "4/4 [==============================] - 0s 3ms/step - loss: 0.5593 - accuracy: 0.7905\n",
      "Epoch 95/250\n",
      "4/4 [==============================] - 0s 3ms/step - loss: 0.5529 - accuracy: 0.7714\n",
      "Epoch 96/250\n",
      "4/4 [==============================] - 0s 4ms/step - loss: 0.5468 - accuracy: 0.7524\n",
      "Epoch 97/250\n",
      "4/4 [==============================] - 0s 5ms/step - loss: 0.5405 - accuracy: 0.7524\n",
      "Epoch 98/250\n",
      "4/4 [==============================] - 0s 4ms/step - loss: 0.5344 - accuracy: 0.7714\n",
      "Epoch 99/250\n",
      "4/4 [==============================] - 0s 4ms/step - loss: 0.5282 - accuracy: 0.8000\n",
      "Epoch 100/250\n",
      "4/4 [==============================] - 0s 4ms/step - loss: 0.5230 - accuracy: 0.8190\n",
      "Epoch 101/250\n",
      "4/4 [==============================] - 0s 4ms/step - loss: 0.5183 - accuracy: 0.8095\n",
      "Epoch 102/250\n",
      "4/4 [==============================] - 0s 4ms/step - loss: 0.5118 - accuracy: 0.8000\n",
      "Epoch 103/250\n",
      "4/4 [==============================] - 0s 4ms/step - loss: 0.5062 - accuracy: 0.8000\n",
      "Epoch 104/250\n",
      "4/4 [==============================] - 0s 4ms/step - loss: 0.5025 - accuracy: 0.7619\n",
      "Epoch 105/250\n",
      "4/4 [==============================] - 0s 4ms/step - loss: 0.4972 - accuracy: 0.7905\n",
      "Epoch 106/250\n",
      "4/4 [==============================] - 0s 4ms/step - loss: 0.4915 - accuracy: 0.8381\n",
      "Epoch 107/250\n",
      "4/4 [==============================] - 0s 7ms/step - loss: 0.4869 - accuracy: 0.8762\n",
      "Epoch 108/250\n",
      "4/4 [==============================] - 0s 7ms/step - loss: 0.4822 - accuracy: 0.8762\n",
      "Epoch 109/250\n",
      "4/4 [==============================] - 0s 5ms/step - loss: 0.4782 - accuracy: 0.8667\n",
      "Epoch 110/250\n",
      "4/4 [==============================] - 0s 4ms/step - loss: 0.4738 - accuracy: 0.8667\n",
      "Epoch 111/250\n",
      "4/4 [==============================] - 0s 4ms/step - loss: 0.4698 - accuracy: 0.8667\n",
      "Epoch 112/250\n",
      "4/4 [==============================] - 0s 3ms/step - loss: 0.4662 - accuracy: 0.8667\n",
      "Epoch 113/250\n",
      "4/4 [==============================] - 0s 3ms/step - loss: 0.4615 - accuracy: 0.8952\n",
      "Epoch 114/250\n",
      "4/4 [==============================] - 0s 4ms/step - loss: 0.4576 - accuracy: 0.8952\n",
      "Epoch 115/250\n",
      "4/4 [==============================] - 0s 3ms/step - loss: 0.4538 - accuracy: 0.9048\n",
      "Epoch 116/250\n",
      "4/4 [==============================] - 0s 4ms/step - loss: 0.4499 - accuracy: 0.9333\n",
      "Epoch 117/250\n",
      "4/4 [==============================] - 0s 4ms/step - loss: 0.4471 - accuracy: 0.9429\n",
      "Epoch 118/250\n",
      "4/4 [==============================] - 0s 3ms/step - loss: 0.4428 - accuracy: 0.9524\n",
      "Epoch 119/250\n",
      "4/4 [==============================] - 0s 4ms/step - loss: 0.4393 - accuracy: 0.9524\n",
      "Epoch 120/250\n",
      "4/4 [==============================] - 0s 4ms/step - loss: 0.4356 - accuracy: 0.9524\n",
      "Epoch 121/250\n",
      "4/4 [==============================] - 0s 4ms/step - loss: 0.4322 - accuracy: 0.9429\n",
      "Epoch 122/250\n",
      "4/4 [==============================] - 0s 3ms/step - loss: 0.4289 - accuracy: 0.9429\n",
      "Epoch 123/250\n",
      "4/4 [==============================] - 0s 3ms/step - loss: 0.4257 - accuracy: 0.9429\n",
      "Epoch 124/250\n",
      "4/4 [==============================] - 0s 3ms/step - loss: 0.4225 - accuracy: 0.9429\n",
      "Epoch 125/250\n",
      "4/4 [==============================] - 0s 4ms/step - loss: 0.4193 - accuracy: 0.9429\n",
      "Epoch 126/250\n",
      "4/4 [==============================] - 0s 3ms/step - loss: 0.4161 - accuracy: 0.9333\n",
      "Epoch 127/250\n",
      "4/4 [==============================] - 0s 4ms/step - loss: 0.4130 - accuracy: 0.9429\n",
      "Epoch 128/250\n",
      "4/4 [==============================] - 0s 4ms/step - loss: 0.4105 - accuracy: 0.9333\n",
      "Epoch 129/250\n",
      "4/4 [==============================] - 0s 4ms/step - loss: 0.4071 - accuracy: 0.9333\n",
      "Epoch 130/250\n",
      "4/4 [==============================] - 0s 4ms/step - loss: 0.4042 - accuracy: 0.9429\n",
      "Epoch 131/250\n",
      "4/4 [==============================] - 0s 4ms/step - loss: 0.4009 - accuracy: 0.9524\n",
      "Epoch 132/250\n",
      "4/4 [==============================] - 0s 4ms/step - loss: 0.3980 - accuracy: 0.9619\n",
      "Epoch 133/250\n",
      "4/4 [==============================] - 0s 4ms/step - loss: 0.3952 - accuracy: 0.9619\n",
      "Epoch 134/250\n",
      "4/4 [==============================] - 0s 4ms/step - loss: 0.3925 - accuracy: 0.9619\n",
      "Epoch 135/250\n",
      "4/4 [==============================] - 0s 3ms/step - loss: 0.3897 - accuracy: 0.9619\n",
      "Epoch 136/250\n",
      "4/4 [==============================] - 0s 6ms/step - loss: 0.3865 - accuracy: 0.9619\n",
      "Epoch 137/250\n",
      "4/4 [==============================] - 0s 4ms/step - loss: 0.3842 - accuracy: 0.9524\n",
      "Epoch 138/250\n",
      "4/4 [==============================] - 0s 4ms/step - loss: 0.3816 - accuracy: 0.9524\n",
      "Epoch 139/250\n",
      "4/4 [==============================] - 0s 4ms/step - loss: 0.3791 - accuracy: 0.9429\n",
      "Epoch 140/250\n",
      "4/4 [==============================] - 0s 4ms/step - loss: 0.3771 - accuracy: 0.9429\n",
      "Epoch 141/250\n",
      "4/4 [==============================] - 0s 4ms/step - loss: 0.3745 - accuracy: 0.9429\n",
      "Epoch 142/250\n",
      "4/4 [==============================] - 0s 4ms/step - loss: 0.3719 - accuracy: 0.9429\n",
      "Epoch 143/250\n",
      "4/4 [==============================] - 0s 4ms/step - loss: 0.3677 - accuracy: 0.9619\n",
      "Epoch 144/250\n",
      "4/4 [==============================] - 0s 3ms/step - loss: 0.3652 - accuracy: 0.9619\n",
      "Epoch 145/250\n",
      "4/4 [==============================] - 0s 3ms/step - loss: 0.3623 - accuracy: 0.9619\n",
      "Epoch 146/250\n",
      "4/4 [==============================] - 0s 4ms/step - loss: 0.3599 - accuracy: 0.9619\n",
      "Epoch 147/250\n",
      "4/4 [==============================] - 0s 3ms/step - loss: 0.3577 - accuracy: 0.9619\n",
      "Epoch 148/250\n",
      "4/4 [==============================] - 0s 3ms/step - loss: 0.3546 - accuracy: 0.9619\n",
      "Epoch 149/250\n",
      "4/4 [==============================] - 0s 3ms/step - loss: 0.3521 - accuracy: 0.9619\n",
      "Epoch 150/250\n",
      "4/4 [==============================] - 0s 3ms/step - loss: 0.3493 - accuracy: 0.9619\n",
      "Epoch 151/250\n",
      "4/4 [==============================] - 0s 3ms/step - loss: 0.3479 - accuracy: 0.9524\n",
      "Epoch 152/250\n",
      "4/4 [==============================] - 0s 3ms/step - loss: 0.3451 - accuracy: 0.9524\n",
      "Epoch 153/250\n",
      "4/4 [==============================] - 0s 3ms/step - loss: 0.3424 - accuracy: 0.9524\n",
      "Epoch 154/250\n",
      "4/4 [==============================] - 0s 3ms/step - loss: 0.3396 - accuracy: 0.9619\n",
      "Epoch 155/250\n",
      "4/4 [==============================] - 0s 3ms/step - loss: 0.3373 - accuracy: 0.9619\n",
      "Epoch 156/250\n",
      "4/4 [==============================] - 0s 3ms/step - loss: 0.3347 - accuracy: 0.9619\n",
      "Epoch 157/250\n",
      "4/4 [==============================] - 0s 4ms/step - loss: 0.3327 - accuracy: 0.9619\n",
      "Epoch 158/250\n",
      "4/4 [==============================] - 0s 3ms/step - loss: 0.3305 - accuracy: 0.9619\n",
      "Epoch 159/250\n",
      "4/4 [==============================] - 0s 3ms/step - loss: 0.3285 - accuracy: 0.9619\n",
      "Epoch 160/250\n",
      "4/4 [==============================] - 0s 4ms/step - loss: 0.3262 - accuracy: 0.9619\n",
      "Epoch 161/250\n",
      "4/4 [==============================] - 0s 3ms/step - loss: 0.3236 - accuracy: 0.9619\n",
      "Epoch 162/250\n",
      "4/4 [==============================] - 0s 4ms/step - loss: 0.3211 - accuracy: 0.9619\n",
      "Epoch 163/250\n",
      "4/4 [==============================] - 0s 3ms/step - loss: 0.3196 - accuracy: 0.9619\n",
      "Epoch 164/250\n",
      "4/4 [==============================] - 0s 3ms/step - loss: 0.3160 - accuracy: 0.9619\n",
      "Epoch 165/250\n",
      "4/4 [==============================] - 0s 4ms/step - loss: 0.3149 - accuracy: 0.9619\n",
      "Epoch 166/250\n",
      "4/4 [==============================] - 0s 3ms/step - loss: 0.3125 - accuracy: 0.9619\n",
      "Epoch 167/250\n",
      "4/4 [==============================] - 0s 3ms/step - loss: 0.3101 - accuracy: 0.9619\n",
      "Epoch 168/250\n",
      "4/4 [==============================] - 0s 7ms/step - loss: 0.3071 - accuracy: 0.9619\n",
      "Epoch 169/250\n",
      "4/4 [==============================] - 0s 7ms/step - loss: 0.3055 - accuracy: 0.9619\n",
      "Epoch 170/250\n",
      "4/4 [==============================] - 0s 8ms/step - loss: 0.3035 - accuracy: 0.9524\n",
      "Epoch 171/250\n",
      "4/4 [==============================] - 0s 7ms/step - loss: 0.3013 - accuracy: 0.9524\n",
      "Epoch 172/250\n",
      "4/4 [==============================] - 0s 5ms/step - loss: 0.2994 - accuracy: 0.9524\n",
      "Epoch 173/250\n",
      "4/4 [==============================] - 0s 8ms/step - loss: 0.2970 - accuracy: 0.9524\n",
      "Epoch 174/250\n",
      "4/4 [==============================] - 0s 5ms/step - loss: 0.2942 - accuracy: 0.9524\n",
      "Epoch 175/250\n",
      "4/4 [==============================] - 0s 3ms/step - loss: 0.2917 - accuracy: 0.9524\n",
      "Epoch 176/250\n",
      "4/4 [==============================] - 0s 5ms/step - loss: 0.2895 - accuracy: 0.9524\n",
      "Epoch 177/250\n",
      "4/4 [==============================] - 0s 4ms/step - loss: 0.2874 - accuracy: 0.9524\n",
      "Epoch 178/250\n",
      "4/4 [==============================] - 0s 6ms/step - loss: 0.2850 - accuracy: 0.9524\n",
      "Epoch 179/250\n",
      "4/4 [==============================] - 0s 4ms/step - loss: 0.2830 - accuracy: 0.9619\n",
      "Epoch 180/250\n",
      "4/4 [==============================] - 0s 4ms/step - loss: 0.2810 - accuracy: 0.9524\n",
      "Epoch 181/250\n",
      "4/4 [==============================] - 0s 4ms/step - loss: 0.2790 - accuracy: 0.9524\n",
      "Epoch 182/250\n",
      "4/4 [==============================] - 0s 4ms/step - loss: 0.2767 - accuracy: 0.9524\n",
      "Epoch 183/250\n",
      "4/4 [==============================] - 0s 4ms/step - loss: 0.2746 - accuracy: 0.9524\n",
      "Epoch 184/250\n",
      "4/4 [==============================] - 0s 3ms/step - loss: 0.2730 - accuracy: 0.9524\n",
      "Epoch 185/250\n",
      "4/4 [==============================] - 0s 3ms/step - loss: 0.2707 - accuracy: 0.9619\n",
      "Epoch 186/250\n",
      "4/4 [==============================] - 0s 5ms/step - loss: 0.2688 - accuracy: 0.9524\n",
      "Epoch 187/250\n",
      "4/4 [==============================] - 0s 3ms/step - loss: 0.2665 - accuracy: 0.9524\n",
      "Epoch 188/250\n",
      "4/4 [==============================] - 0s 3ms/step - loss: 0.2642 - accuracy: 0.9524\n",
      "Epoch 189/250\n",
      "4/4 [==============================] - 0s 3ms/step - loss: 0.2623 - accuracy: 0.9524\n",
      "Epoch 190/250\n",
      "4/4 [==============================] - 0s 4ms/step - loss: 0.2603 - accuracy: 0.9524\n",
      "Epoch 191/250\n",
      "4/4 [==============================] - 0s 4ms/step - loss: 0.2581 - accuracy: 0.9524\n",
      "Epoch 192/250\n",
      "4/4 [==============================] - 0s 4ms/step - loss: 0.2562 - accuracy: 0.9524\n",
      "Epoch 193/250\n",
      "4/4 [==============================] - 0s 5ms/step - loss: 0.2543 - accuracy: 0.9429\n",
      "Epoch 194/250\n",
      "4/4 [==============================] - 0s 4ms/step - loss: 0.2522 - accuracy: 0.9524\n",
      "Epoch 195/250\n",
      "4/4 [==============================] - 0s 3ms/step - loss: 0.2509 - accuracy: 0.9524\n",
      "Epoch 196/250\n",
      "4/4 [==============================] - 0s 4ms/step - loss: 0.2484 - accuracy: 0.9524\n",
      "Epoch 197/250\n",
      "4/4 [==============================] - 0s 4ms/step - loss: 0.2464 - accuracy: 0.9524\n",
      "Epoch 198/250\n",
      "4/4 [==============================] - 0s 3ms/step - loss: 0.2450 - accuracy: 0.9429\n",
      "Epoch 199/250\n",
      "4/4 [==============================] - 0s 3ms/step - loss: 0.2428 - accuracy: 0.9429\n",
      "Epoch 200/250\n",
      "4/4 [==============================] - 0s 5ms/step - loss: 0.2416 - accuracy: 0.9524\n",
      "Epoch 201/250\n",
      "4/4 [==============================] - 0s 6ms/step - loss: 0.2401 - accuracy: 0.9524\n",
      "Epoch 202/250\n",
      "4/4 [==============================] - 0s 4ms/step - loss: 0.2384 - accuracy: 0.9524\n",
      "Epoch 203/250\n",
      "4/4 [==============================] - 0s 3ms/step - loss: 0.2367 - accuracy: 0.9524\n",
      "Epoch 204/250\n",
      "4/4 [==============================] - 0s 5ms/step - loss: 0.2344 - accuracy: 0.9524\n",
      "Epoch 205/250\n",
      "4/4 [==============================] - 0s 4ms/step - loss: 0.2330 - accuracy: 0.9429\n",
      "Epoch 206/250\n",
      "4/4 [==============================] - 0s 5ms/step - loss: 0.2317 - accuracy: 0.9524\n",
      "Epoch 207/250\n",
      "4/4 [==============================] - 0s 4ms/step - loss: 0.2300 - accuracy: 0.9524\n",
      "Epoch 208/250\n",
      "4/4 [==============================] - 0s 5ms/step - loss: 0.2291 - accuracy: 0.9524\n",
      "Epoch 209/250\n",
      "4/4 [==============================] - 0s 6ms/step - loss: 0.2278 - accuracy: 0.9619\n",
      "Epoch 210/250\n",
      "4/4 [==============================] - 0s 4ms/step - loss: 0.2258 - accuracy: 0.9524\n",
      "Epoch 211/250\n",
      "4/4 [==============================] - 0s 5ms/step - loss: 0.2228 - accuracy: 0.9429\n",
      "Epoch 212/250\n",
      "4/4 [==============================] - 0s 5ms/step - loss: 0.2232 - accuracy: 0.9429\n",
      "Epoch 213/250\n",
      "4/4 [==============================] - 0s 4ms/step - loss: 0.2204 - accuracy: 0.9524\n",
      "Epoch 214/250\n",
      "4/4 [==============================] - 0s 4ms/step - loss: 0.2186 - accuracy: 0.9524\n",
      "Epoch 215/250\n",
      "4/4 [==============================] - 0s 3ms/step - loss: 0.2175 - accuracy: 0.9524\n",
      "Epoch 216/250\n",
      "4/4 [==============================] - 0s 4ms/step - loss: 0.2167 - accuracy: 0.9524\n",
      "Epoch 217/250\n",
      "4/4 [==============================] - 0s 11ms/step - loss: 0.2150 - accuracy: 0.9524\n",
      "Epoch 218/250\n",
      "4/4 [==============================] - 0s 8ms/step - loss: 0.2124 - accuracy: 0.9524\n",
      "Epoch 219/250\n",
      "4/4 [==============================] - 0s 5ms/step - loss: 0.2111 - accuracy: 0.9429\n",
      "Epoch 220/250\n",
      "4/4 [==============================] - 0s 4ms/step - loss: 0.2095 - accuracy: 0.9429\n",
      "Epoch 221/250\n",
      "4/4 [==============================] - 0s 5ms/step - loss: 0.2084 - accuracy: 0.9429\n",
      "Epoch 222/250\n",
      "4/4 [==============================] - 0s 5ms/step - loss: 0.2085 - accuracy: 0.9524\n",
      "Epoch 223/250\n",
      "4/4 [==============================] - 0s 5ms/step - loss: 0.2074 - accuracy: 0.9524\n",
      "Epoch 224/250\n",
      "4/4 [==============================] - 0s 5ms/step - loss: 0.2047 - accuracy: 0.9524\n",
      "Epoch 225/250\n",
      "4/4 [==============================] - 0s 6ms/step - loss: 0.2033 - accuracy: 0.9524\n",
      "Epoch 226/250\n",
      "4/4 [==============================] - 0s 4ms/step - loss: 0.2017 - accuracy: 0.9524\n",
      "Epoch 227/250\n",
      "4/4 [==============================] - 0s 8ms/step - loss: 0.1999 - accuracy: 0.9429\n",
      "Epoch 228/250\n",
      "4/4 [==============================] - 0s 6ms/step - loss: 0.1984 - accuracy: 0.9429\n",
      "Epoch 229/250\n",
      "4/4 [==============================] - 0s 4ms/step - loss: 0.1971 - accuracy: 0.9429\n",
      "Epoch 230/250\n",
      "4/4 [==============================] - 0s 3ms/step - loss: 0.1959 - accuracy: 0.9429\n",
      "Epoch 231/250\n",
      "4/4 [==============================] - 0s 3ms/step - loss: 0.1944 - accuracy: 0.9429\n",
      "Epoch 232/250\n",
      "4/4 [==============================] - 0s 4ms/step - loss: 0.1931 - accuracy: 0.9429\n",
      "Epoch 233/250\n",
      "4/4 [==============================] - 0s 4ms/step - loss: 0.1924 - accuracy: 0.9429\n",
      "Epoch 234/250\n",
      "4/4 [==============================] - 0s 4ms/step - loss: 0.1916 - accuracy: 0.9524\n",
      "Epoch 235/250\n",
      "4/4 [==============================] - 0s 3ms/step - loss: 0.1900 - accuracy: 0.9429\n",
      "Epoch 236/250\n",
      "4/4 [==============================] - 0s 3ms/step - loss: 0.1893 - accuracy: 0.9429\n",
      "Epoch 237/250\n",
      "4/4 [==============================] - 0s 3ms/step - loss: 0.1872 - accuracy: 0.9429\n",
      "Epoch 238/250\n",
      "4/4 [==============================] - 0s 3ms/step - loss: 0.1861 - accuracy: 0.9429\n",
      "Epoch 239/250\n",
      "4/4 [==============================] - 0s 4ms/step - loss: 0.1849 - accuracy: 0.9429\n",
      "Epoch 240/250\n",
      "4/4 [==============================] - 0s 3ms/step - loss: 0.1837 - accuracy: 0.9429\n",
      "Epoch 241/250\n",
      "4/4 [==============================] - 0s 3ms/step - loss: 0.1825 - accuracy: 0.9429\n",
      "Epoch 242/250\n",
      "4/4 [==============================] - 0s 3ms/step - loss: 0.1815 - accuracy: 0.9429\n",
      "Epoch 243/250\n",
      "4/4 [==============================] - 0s 3ms/step - loss: 0.1808 - accuracy: 0.9429\n",
      "Epoch 244/250\n",
      "4/4 [==============================] - 0s 4ms/step - loss: 0.1797 - accuracy: 0.9524\n",
      "Epoch 245/250\n",
      "4/4 [==============================] - 0s 3ms/step - loss: 0.1785 - accuracy: 0.9429\n",
      "Epoch 246/250\n",
      "4/4 [==============================] - 0s 3ms/step - loss: 0.1779 - accuracy: 0.9524\n",
      "Epoch 247/250\n",
      "4/4 [==============================] - 0s 3ms/step - loss: 0.1766 - accuracy: 0.9524\n",
      "Epoch 248/250\n",
      "4/4 [==============================] - 0s 4ms/step - loss: 0.1752 - accuracy: 0.9429\n",
      "Epoch 249/250\n",
      "4/4 [==============================] - 0s 4ms/step - loss: 0.1738 - accuracy: 0.9429\n",
      "Epoch 250/250\n",
      "4/4 [==============================] - 0s 3ms/step - loss: 0.1726 - accuracy: 0.9429\n"
     ]
    },
    {
     "data": {
      "text/plain": [
       "<keras.callbacks.History at 0x7f9e707aef20>"
      ]
     },
     "execution_count": 33,
     "metadata": {},
     "output_type": "execute_result"
    }
   ],
   "source": [
    "model.fit(scaled_X_train, y_train, epochs=250, verbose=1)"
   ]
  },
  {
   "cell_type": "code",
   "execution_count": 36,
   "id": "9bba65af-0abb-424a-a4a8-3e9b09de1b1c",
   "metadata": {},
   "outputs": [
    {
     "name": "stdout",
     "output_type": "stream",
     "text": [
      "2/2 [==============================] - 0s 2ms/step\n"
     ]
    }
   ],
   "source": [
    "predictions = model.predict(scaled_X_test)"
   ]
  },
  {
   "cell_type": "code",
   "execution_count": 39,
   "id": "e8385726-4a18-422f-9941-b9fc2d887f3c",
   "metadata": {},
   "outputs": [],
   "source": [
    "predictions = predictions.argmax(axis=1)"
   ]
  },
  {
   "cell_type": "code",
   "execution_count": 40,
   "id": "f8cc4f66-1228-4f25-8909-4fed761666c1",
   "metadata": {},
   "outputs": [
    {
     "data": {
      "text/plain": [
       "array([0, 0, 2, 0, 0, 2, 0, 2, 2, 0, 0, 0, 0, 0, 1, 1, 0, 1, 2, 1, 2, 1,\n",
       "       2, 1, 1, 0, 0, 2, 0, 2, 2, 0, 1, 2, 1, 0, 2, 1, 1, 2, 1, 1, 2, 1,\n",
       "       0])"
      ]
     },
     "execution_count": 40,
     "metadata": {},
     "output_type": "execute_result"
    }
   ],
   "source": [
    "predictions"
   ]
  },
  {
   "cell_type": "code",
   "execution_count": 41,
   "id": "95c58562-6395-46e5-ab67-8036539bcd24",
   "metadata": {},
   "outputs": [],
   "source": [
    "y_test = y_test.argmax(axis=1)"
   ]
  },
  {
   "cell_type": "code",
   "execution_count": 42,
   "id": "7b180000-a275-44c5-9c53-91f62d5e25e4",
   "metadata": {},
   "outputs": [
    {
     "data": {
      "text/plain": [
       "array([0, 0, 2, 0, 0, 2, 0, 2, 2, 0, 0, 0, 0, 0, 1, 1, 0, 1, 2, 1, 1, 1,\n",
       "       2, 1, 1, 0, 0, 2, 0, 2, 2, 0, 1, 2, 1, 0, 2, 1, 1, 2, 1, 1, 2, 1,\n",
       "       0])"
      ]
     },
     "execution_count": 42,
     "metadata": {},
     "output_type": "execute_result"
    }
   ],
   "source": [
    "y_test"
   ]
  },
  {
   "cell_type": "code",
   "execution_count": 43,
   "id": "4846fabd-91d6-419a-a110-64cc41f4bca5",
   "metadata": {},
   "outputs": [],
   "source": [
    "from sklearn.metrics import classification_report"
   ]
  },
  {
   "cell_type": "code",
   "execution_count": 44,
   "id": "882057eb-80b7-4df2-95de-a471976dedf3",
   "metadata": {},
   "outputs": [
    {
     "name": "stdout",
     "output_type": "stream",
     "text": [
      "              precision    recall  f1-score   support\n",
      "\n",
      "           0       1.00      1.00      1.00        17\n",
      "           1       1.00      0.93      0.97        15\n",
      "           2       0.93      1.00      0.96        13\n",
      "\n",
      "    accuracy                           0.98        45\n",
      "   macro avg       0.98      0.98      0.98        45\n",
      "weighted avg       0.98      0.98      0.98        45\n",
      "\n"
     ]
    }
   ],
   "source": [
    "print(classification_report(y_test, predictions))"
   ]
  },
  {
   "cell_type": "code",
   "execution_count": null,
   "id": "bb791c12-1200-4fcd-895b-25d13547b6b4",
   "metadata": {},
   "outputs": [],
   "source": [
    "\"\"\"\n",
    "Saving machine learning models and loading them \n",
    "for later use.\n",
    "\"\"\""
   ]
  },
  {
   "cell_type": "code",
   "execution_count": 45,
   "id": "de3afc82-e28f-4409-bf7b-133e4baad0c0",
   "metadata": {},
   "outputs": [],
   "source": [
    "model.save('iris_nn_model.h5')"
   ]
  },
  {
   "cell_type": "code",
   "execution_count": 46,
   "id": "14453802-5710-45ee-a9ff-f24db823d9c4",
   "metadata": {},
   "outputs": [],
   "source": [
    "from keras.models import load_model"
   ]
  },
  {
   "cell_type": "code",
   "execution_count": 47,
   "id": "64fa8eb3-2871-4654-b251-63c8d01d1f95",
   "metadata": {},
   "outputs": [],
   "source": [
    "new_model = load_model('iris_nn_model.h5')"
   ]
  },
  {
   "cell_type": "code",
   "execution_count": 48,
   "id": "a465504b-ed72-4c00-ae3b-12bbb9050cef",
   "metadata": {},
   "outputs": [
    {
     "name": "stdout",
     "output_type": "stream",
     "text": [
      "2/2 [==============================] - 0s 4ms/step\n"
     ]
    },
    {
     "data": {
      "text/plain": [
       "array([[9.9068916e-01, 7.3344740e-03, 1.9763978e-03],\n",
       "       [9.7948426e-01, 1.7151542e-02, 3.3641527e-03],\n",
       "       [2.3949656e-03, 1.0425474e-01, 8.9335024e-01],\n",
       "       [9.7357005e-01, 2.2605872e-02, 3.8241167e-03],\n",
       "       [9.8551226e-01, 1.2250034e-02, 2.2377786e-03],\n",
       "       [2.5251664e-03, 4.1158321e-01, 5.8589166e-01],\n",
       "       [9.5451325e-01, 4.0078405e-02, 5.4082447e-03],\n",
       "       [2.2840304e-03, 1.3127466e-01, 8.6644125e-01],\n",
       "       [1.2442714e-03, 7.7375501e-02, 9.2138028e-01],\n",
       "       [9.6654493e-01, 2.8269427e-02, 5.1856367e-03],\n",
       "       [9.9356169e-01, 5.1719905e-03, 1.2663996e-03],\n",
       "       [9.8835522e-01, 9.3330443e-03, 2.3116565e-03],\n",
       "       [9.8491281e-01, 1.2236379e-02, 2.8507332e-03],\n",
       "       [9.9446762e-01, 4.3086391e-03, 1.2237148e-03],\n",
       "       [3.8031829e-03, 7.2076672e-01, 2.7543014e-01],\n",
       "       [4.9890787e-03, 6.0626042e-01, 3.8875052e-01],\n",
       "       [7.2539037e-01, 2.5150603e-01, 2.3103477e-02],\n",
       "       [4.2240140e-03, 8.4476292e-01, 1.5101306e-01],\n",
       "       [4.1657570e-04, 3.2687932e-02, 9.6689534e-01],\n",
       "       [7.4730082e-03, 7.6563823e-01, 2.2688866e-01],\n",
       "       [3.2446031e-03, 4.2973956e-01, 5.6701595e-01],\n",
       "       [4.4875364e-03, 8.2512379e-01, 1.7038871e-01],\n",
       "       [8.8435638e-04, 7.6248206e-02, 9.2286742e-01],\n",
       "       [5.4972628e-03, 8.0049950e-01, 1.9400322e-01],\n",
       "       [9.0765879e-03, 6.3670462e-01, 3.5421881e-01],\n",
       "       [9.8201257e-01, 1.5052406e-02, 2.9349355e-03],\n",
       "       [9.8649651e-01, 1.0909819e-02, 2.5936358e-03],\n",
       "       [2.9641504e-03, 3.6493698e-01, 6.3209885e-01],\n",
       "       [9.9347407e-01, 5.1175347e-03, 1.4083311e-03],\n",
       "       [1.5814624e-03, 2.7944478e-01, 7.1897382e-01],\n",
       "       [3.5379983e-03, 3.0288568e-01, 6.9357640e-01],\n",
       "       [9.6043772e-01, 3.3134442e-02, 6.4278063e-03],\n",
       "       [8.3552254e-03, 8.5627580e-01, 1.3536905e-01],\n",
       "       [4.0865410e-04, 1.1581180e-01, 8.8377953e-01],\n",
       "       [3.6912686e-03, 7.2027338e-01, 2.7603522e-01],\n",
       "       [9.9622196e-01, 2.9823123e-03, 7.9567888e-04],\n",
       "       [9.8449050e-04, 5.3082611e-02, 9.4593292e-01],\n",
       "       [3.7159179e-03, 7.6884085e-01, 2.2744319e-01],\n",
       "       [9.5728617e-03, 7.0387691e-01, 2.8655028e-01],\n",
       "       [1.0371169e-03, 6.8094708e-02, 9.3086821e-01],\n",
       "       [4.4192742e-03, 6.6983736e-01, 3.2574341e-01],\n",
       "       [4.3797093e-03, 8.2891870e-01, 1.6670167e-01],\n",
       "       [6.0244411e-04, 5.4335278e-02, 9.4506228e-01],\n",
       "       [8.5427081e-03, 9.1867602e-01, 7.2781265e-02],\n",
       "       [9.8982507e-01, 8.2438551e-03, 1.9311431e-03]], dtype=float32)"
      ]
     },
     "execution_count": 48,
     "metadata": {},
     "output_type": "execute_result"
    }
   ],
   "source": [
    "new_model.predict(scaled_X_test)"
   ]
  },
  {
   "cell_type": "code",
   "execution_count": null,
   "id": "917dace2-a43f-44f0-9616-6faa21c05170",
   "metadata": {},
   "outputs": [],
   "source": []
  }
 ],
 "metadata": {
  "kernelspec": {
   "display_name": "Python 3 (ipykernel)",
   "language": "python",
   "name": "python3"
  },
  "language_info": {
   "codemirror_mode": {
    "name": "ipython",
    "version": 3
   },
   "file_extension": ".py",
   "mimetype": "text/x-python",
   "name": "python",
   "nbconvert_exporter": "python",
   "pygments_lexer": "ipython3",
   "version": "3.10.6"
  }
 },
 "nbformat": 4,
 "nbformat_minor": 5
}
