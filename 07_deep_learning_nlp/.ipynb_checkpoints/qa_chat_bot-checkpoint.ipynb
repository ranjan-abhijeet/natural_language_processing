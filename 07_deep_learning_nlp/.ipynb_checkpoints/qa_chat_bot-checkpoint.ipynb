{
 "cells": [
  {
   "cell_type": "code",
   "execution_count": 2,
   "id": "5fe16ddc-4dfd-4fcf-804c-0c2006b40519",
   "metadata": {},
   "outputs": [],
   "source": [
    "import pickle\n",
    "import numpy as np"
   ]
  },
  {
   "cell_type": "code",
   "execution_count": 3,
   "id": "16032b86-777d-4c60-859a-96a99db329cc",
   "metadata": {},
   "outputs": [],
   "source": [
    "train_file_path = '/home/viper/Downloads/UPDATED_NLP_COURSE/TextFiles/train_qa.txt'"
   ]
  },
  {
   "cell_type": "code",
   "execution_count": 4,
   "id": "1593ab79-e1c4-4fdc-ac5d-6d4716d1c008",
   "metadata": {},
   "outputs": [],
   "source": [
    "with open(train_file_path, 'rb') as file:\n",
    "    train_data = pickle.load(file)"
   ]
  },
  {
   "cell_type": "code",
   "execution_count": 5,
   "id": "f8c602dc-b690-44f1-a423-2af56c26db25",
   "metadata": {},
   "outputs": [],
   "source": [
    "test_file_path = '/home/viper/Downloads/UPDATED_NLP_COURSE/TextFiles/test_qa.txt'"
   ]
  },
  {
   "cell_type": "code",
   "execution_count": 6,
   "id": "508ac232-eec8-40f6-82ed-cea8c8a77d72",
   "metadata": {},
   "outputs": [],
   "source": [
    "with open(test_file_path, 'rb') as file:\n",
    "    test_data = pickle.load(file)"
   ]
  },
  {
   "cell_type": "code",
   "execution_count": 17,
   "id": "ead2187f-f291-433c-b9ac-31f5d3b2c9a4",
   "metadata": {},
   "outputs": [],
   "source": [
    "all_data = test_data + train_data"
   ]
  },
  {
   "cell_type": "code",
   "execution_count": 20,
   "id": "8c5bb38f-8e93-4c50-8958-ee71aee57104",
   "metadata": {},
   "outputs": [],
   "source": [
    "vocab = set()\n",
    "\n",
    "for story, question, answer in all_data:\n",
    "    vocab = vocab.union(set(story), set(question))"
   ]
  },
  {
   "cell_type": "code",
   "execution_count": 22,
   "id": "551c1d9f-456b-4eca-a717-0390b0f13cc6",
   "metadata": {},
   "outputs": [],
   "source": [
    "vocab.add('yes')\n",
    "vocab.add('no')"
   ]
  },
  {
   "cell_type": "code",
   "execution_count": 25,
   "id": "e3bd583f-6988-4e62-94d2-1d723092de7f",
   "metadata": {},
   "outputs": [],
   "source": [
    "vocab_len = len(vocab) + 1 # keras pad_sequences requires padding."
   ]
  },
  {
   "cell_type": "code",
   "execution_count": 24,
   "id": "0a3f3e36-f8fd-4fff-837a-24b8cb98c1f7",
   "metadata": {},
   "outputs": [
    {
     "data": {
      "text/plain": [
       "38"
      ]
     },
     "execution_count": 24,
     "metadata": {},
     "output_type": "execute_result"
    }
   ],
   "source": [
    "vocab_len"
   ]
  },
  {
   "cell_type": "code",
   "execution_count": 31,
   "id": "4e39177a-0099-4fcf-8da6-e4b0ce6b84ec",
   "metadata": {},
   "outputs": [],
   "source": [
    "max_story_len = 0\n",
    "\n",
    "for story, question, answer in all_data:\n",
    "    if len(story) > max_story_len:\n",
    "        max_story_len = len(story)"
   ]
  },
  {
   "cell_type": "code",
   "execution_count": 32,
   "id": "00ba284a-f2ff-4de5-8a3b-8651b4485155",
   "metadata": {},
   "outputs": [
    {
     "data": {
      "text/plain": [
       "156"
      ]
     },
     "execution_count": 32,
     "metadata": {},
     "output_type": "execute_result"
    }
   ],
   "source": [
    "max_story_len"
   ]
  },
  {
   "cell_type": "code",
   "execution_count": 54,
   "id": "355bc211-dd88-412d-aab3-1d12a01b9294",
   "metadata": {},
   "outputs": [],
   "source": [
    "max_question_len = max([len(data[1]) for data in all_data])"
   ]
  },
  {
   "cell_type": "code",
   "execution_count": 56,
   "id": "7dbc1343-3fc5-418e-9aa3-d5d5542337d2",
   "metadata": {},
   "outputs": [
    {
     "data": {
      "text/plain": [
       "6"
      ]
     },
     "execution_count": 56,
     "metadata": {},
     "output_type": "execute_result"
    }
   ],
   "source": [
    "max_question_len"
   ]
  },
  {
   "cell_type": "code",
   "execution_count": 35,
   "id": "ba133ecb-00d0-4f44-b258-0f5aa324bd6f",
   "metadata": {},
   "outputs": [],
   "source": [
    "# Vectorizing data"
   ]
  },
  {
   "cell_type": "code",
   "execution_count": 37,
   "id": "cf7ea5dd-d1aa-41d4-8385-8c0161c0d1e6",
   "metadata": {},
   "outputs": [],
   "source": [
    "from keras_preprocessing.sequence import pad_sequences\n",
    "from keras.preprocessing.text import Tokenizer"
   ]
  },
  {
   "cell_type": "code",
   "execution_count": 38,
   "id": "d040644c-7eee-4909-b609-5cceadbd158e",
   "metadata": {},
   "outputs": [],
   "source": [
    "tokenizer = Tokenizer(filters=[])"
   ]
  },
  {
   "cell_type": "code",
   "execution_count": 39,
   "id": "350e36a3-8e4a-409e-b0a8-5d53046ea8ae",
   "metadata": {},
   "outputs": [],
   "source": [
    "tokenizer.fit_on_texts(vocab)"
   ]
  },
  {
   "cell_type": "code",
   "execution_count": 44,
   "id": "5381ec9a-29b4-4036-bebd-17739ebf31f1",
   "metadata": {},
   "outputs": [],
   "source": [
    "word_dict = tokenizer.word_index"
   ]
  },
  {
   "cell_type": "code",
   "execution_count": 45,
   "id": "52b9e775-4d0d-4be5-a474-b212dfe2fa41",
   "metadata": {},
   "outputs": [],
   "source": [
    "train_story_text = []\n",
    "train_question_text = []\n",
    "train_answers = []"
   ]
  },
  {
   "cell_type": "code",
   "execution_count": 47,
   "id": "255bd8cc-2208-4dae-9710-c2847a8dc699",
   "metadata": {},
   "outputs": [],
   "source": [
    "for story, question, answer in train_data:\n",
    "    train_story_text.append(story)\n",
    "    train_question_text.append(question)\n",
    "    train_answers.append(answer)"
   ]
  },
  {
   "cell_type": "code",
   "execution_count": 51,
   "id": "a0a1d6b4-61c9-48a4-8501-019009500a88",
   "metadata": {},
   "outputs": [],
   "source": [
    "train_story_seq = tokenizer.texts_to_sequences(train_story_text)\n",
    "# converting text sequences to vector or number sequences"
   ]
  },
  {
   "cell_type": "code",
   "execution_count": 59,
   "id": "3d854ad3-72c7-4499-8a55-7a13bd9953ca",
   "metadata": {},
   "outputs": [],
   "source": [
    "def vectorize_stories(data, word_index=tokenizer.word_index, max_story_len=max_story_len, max_question_len=max_question_len):\n",
    "    X = [] # stories\n",
    "    Xq = [] # question\n",
    "    Y = [] # answers\n",
    "    \n",
    "    for story, question, answer in data:\n",
    "        x = [word_index[word.lower()] for word in story]\n",
    "        xq = [word_index[question.lower()] for question in question]\n",
    "        y = np.zeros(len(word_index) + 1)\n",
    "        y[word_index[answer]] = 1 \n",
    "        \n",
    "        X.append(x)\n",
    "        Xq.append(xq)\n",
    "        Y.append(y)\n",
    "    \n",
    "    return (pad_sequences(X, maxlen=max_story_len), pad_sequences(Xq, maxlen=max_question_len), np.array(Y))"
   ]
  },
  {
   "cell_type": "code",
   "execution_count": 60,
   "id": "996aadba-60f8-48ca-b270-17643c40eb21",
   "metadata": {},
   "outputs": [],
   "source": [
    "inputs_train, queries_train, answers_train = vectorize_stories(train_data)"
   ]
  },
  {
   "cell_type": "code",
   "execution_count": 61,
   "id": "c85aa928-7113-4f29-8ca4-0e59c05064af",
   "metadata": {},
   "outputs": [],
   "source": [
    "inputs_test, queries_test, answers_test = vectorize_stories(test_data)"
   ]
  },
  {
   "cell_type": "code",
   "execution_count": null,
   "id": "ce2cc7d4-c35a-438b-83b1-a872f3eda7de",
   "metadata": {},
   "outputs": [],
   "source": []
  },
  {
   "cell_type": "code",
   "execution_count": 65,
   "id": "5beacfe3-f029-44d7-b960-1446206acba1",
   "metadata": {},
   "outputs": [],
   "source": [
    "# Building the network"
   ]
  },
  {
   "cell_type": "code",
   "execution_count": 66,
   "id": "be6cdd7b-26ad-4fd4-9e94-af33c647cb95",
   "metadata": {},
   "outputs": [],
   "source": [
    "from keras.models import Sequential, Model"
   ]
  },
  {
   "cell_type": "code",
   "execution_count": 68,
   "id": "5e6d552b-8bf9-448b-908e-f4eb2e6edf45",
   "metadata": {},
   "outputs": [],
   "source": [
    "from keras.layers import Embedding"
   ]
  },
  {
   "cell_type": "code",
   "execution_count": 69,
   "id": "51bdcaa7-819f-46fb-9525-f44448477e7b",
   "metadata": {},
   "outputs": [],
   "source": [
    "from keras.layers import Input, Activation, Dense, Permute, Dropout, add, dot, concatenate, LSTM"
   ]
  },
  {
   "cell_type": "code",
   "execution_count": 70,
   "id": "3e2a1cc1-343a-48e1-b2a2-e05caaaad04c",
   "metadata": {},
   "outputs": [],
   "source": [
    "input_sequence = Input((max_story_len,))\n",
    "question = Input((max_question_len,))"
   ]
  },
  {
   "cell_type": "code",
   "execution_count": 71,
   "id": "1415c043-2c8e-4808-9da1-53ab5463c1c7",
   "metadata": {},
   "outputs": [],
   "source": [
    "vocab_size = len(vocab) + 1 "
   ]
  },
  {
   "cell_type": "code",
   "execution_count": 76,
   "id": "6446d745-5901-4dc6-a6c5-05020c62a256",
   "metadata": {},
   "outputs": [],
   "source": [
    "# Input encoder M\n",
    "input_encoder_m = Sequential()\n",
    "input_encoder_m.add(Embedding(input_dim=vocab_size, output_dim=64))\n",
    "input_encoder_m.add(Dropout(0.35))\n",
    "\n",
    "# output of input_encoder_m = (samples, story_maxlen, embedding_dim)"
   ]
  },
  {
   "cell_type": "code",
   "execution_count": 77,
   "id": "76182f18-be92-4ce1-8a45-1bd8cd95442e",
   "metadata": {},
   "outputs": [],
   "source": [
    "# Input encoder M\n",
    "input_encoder_c = Sequential()\n",
    "input_encoder_c.add(Embedding(input_dim=vocab_size, output_dim=max_question_len))\n",
    "input_encoder_c.add(Dropout(0.35))\n",
    "\n",
    "# output of input_encoder_c = (samples, story_maxlen, max_question_len)"
   ]
  },
  {
   "cell_type": "code",
   "execution_count": 78,
   "id": "b214c0d5-e18c-4f5c-a8c3-0b17bb9d2a61",
   "metadata": {},
   "outputs": [],
   "source": [
    "# Input encoder M\n",
    "question_encoder = Sequential()\n",
    "question_encoder.add(Embedding(input_dim=vocab_size, output_dim=64, input_length=max_answer_len))\n",
    "question_encoder.add(Dropout(0.35))\n",
    "\n",
    "# output of input_encoder_c = (samples, query_maxlen, max_answer_len)"
   ]
  },
  {
   "cell_type": "code",
   "execution_count": 79,
   "id": "6e0c0796-c10b-4b06-8930-b1e33d4ae6fe",
   "metadata": {},
   "outputs": [],
   "source": [
    "# encoded <--- encoder(input)\n",
    "\n",
    "input_encoded_m = input_encoder_m(input_sequence)\n",
    "input_encoded_c = input_encoder_c(input_sequence)\n",
    "question_encoded = question_encoder(question)"
   ]
  },
  {
   "cell_type": "code",
   "execution_count": 81,
   "id": "d653bbe7-c996-450e-85bf-33114c171a0d",
   "metadata": {},
   "outputs": [],
   "source": [
    "match = dot([input_encoded_m, question_encoded], axes=(2,2))\n",
    "match = Activation('softmax')(match)"
   ]
  },
  {
   "cell_type": "code",
   "execution_count": 83,
   "id": "f11f3e1a-6438-4874-8838-3fcbc3e0d027",
   "metadata": {},
   "outputs": [],
   "source": [
    "response = add([match, input_encoded_c])\n",
    "response = Permute((2,1))(response)"
   ]
  },
  {
   "cell_type": "code",
   "execution_count": 84,
   "id": "c64e1241-48c9-42e3-be01-450f5c64fe11",
   "metadata": {},
   "outputs": [],
   "source": [
    "answer = concatenate([response, question_encoded])"
   ]
  },
  {
   "cell_type": "code",
   "execution_count": 85,
   "id": "9738e74a-9973-4786-89d5-647ebe19a23a",
   "metadata": {},
   "outputs": [
    {
     "data": {
      "text/plain": [
       "<KerasTensor: shape=(None, 6, 220) dtype=float32 (created by layer 'concatenate')>"
      ]
     },
     "execution_count": 85,
     "metadata": {},
     "output_type": "execute_result"
    }
   ],
   "source": [
    "answer"
   ]
  },
  {
   "cell_type": "code",
   "execution_count": 86,
   "id": "bdd3fbba-5fbb-47da-95aa-928c0b402757",
   "metadata": {},
   "outputs": [],
   "source": [
    "answer = LSTM(32)(answer)"
   ]
  },
  {
   "cell_type": "code",
   "execution_count": 87,
   "id": "1ed42c48-707e-4530-a56e-03b965ecbebe",
   "metadata": {},
   "outputs": [
    {
     "data": {
      "text/plain": [
       "<KerasTensor: shape=(None, 32) dtype=float32 (created by layer 'lstm')>"
      ]
     },
     "execution_count": 87,
     "metadata": {},
     "output_type": "execute_result"
    }
   ],
   "source": [
    "answer"
   ]
  },
  {
   "cell_type": "code",
   "execution_count": 88,
   "id": "ab377219-dbb7-4a4d-805f-02e219b2c37d",
   "metadata": {},
   "outputs": [],
   "source": [
    "answer = Dropout(0.4)(answer)\n",
    "answer = Dense(vocab_size)(answer)"
   ]
  },
  {
   "cell_type": "code",
   "execution_count": 89,
   "id": "69ffa608-18a6-4ce3-b10a-93222d1ee460",
   "metadata": {},
   "outputs": [],
   "source": [
    "answer = Activation('softmax')(answer)"
   ]
  },
  {
   "cell_type": "code",
   "execution_count": 90,
   "id": "af5fcb3a-2e91-44bb-99e8-ef30b6007492",
   "metadata": {},
   "outputs": [],
   "source": [
    "model = Model([input_sequence, question], answer)"
   ]
  },
  {
   "cell_type": "code",
   "execution_count": 94,
   "id": "1d804f69-2efd-4d1a-9c13-aec2d60cff53",
   "metadata": {},
   "outputs": [],
   "source": [
    "model.compile(optimizer='rmsprop', loss='categorical_crossentropy', metrics=['accuracy'])"
   ]
  },
  {
   "cell_type": "code",
   "execution_count": 95,
   "id": "caacc7c7-c910-416a-a66c-59e402ec27ef",
   "metadata": {},
   "outputs": [
    {
     "name": "stdout",
     "output_type": "stream",
     "text": [
      "Model: \"model\"\n",
      "__________________________________________________________________________________________________\n",
      " Layer (type)                   Output Shape         Param #     Connected to                     \n",
      "==================================================================================================\n",
      " input_1 (InputLayer)           [(None, 156)]        0           []                               \n",
      "                                                                                                  \n",
      " input_2 (InputLayer)           [(None, 6)]          0           []                               \n",
      "                                                                                                  \n",
      " sequential_3 (Sequential)      (None, None, 64)     2432        ['input_1[0][0]']                \n",
      "                                                                                                  \n",
      " sequential_5 (Sequential)      (None, 6, 64)        2432        ['input_2[0][0]']                \n",
      "                                                                                                  \n",
      " dot (Dot)                      (None, 156, 6)       0           ['sequential_3[0][0]',           \n",
      "                                                                  'sequential_5[0][0]']           \n",
      "                                                                                                  \n",
      " activation (Activation)        (None, 156, 6)       0           ['dot[0][0]']                    \n",
      "                                                                                                  \n",
      " sequential_4 (Sequential)      (None, None, 6)      228         ['input_1[0][0]']                \n",
      "                                                                                                  \n",
      " add_1 (Add)                    (None, 156, 6)       0           ['activation[0][0]',             \n",
      "                                                                  'sequential_4[0][0]']           \n",
      "                                                                                                  \n",
      " permute (Permute)              (None, 6, 156)       0           ['add_1[0][0]']                  \n",
      "                                                                                                  \n",
      " concatenate (Concatenate)      (None, 6, 220)       0           ['permute[0][0]',                \n",
      "                                                                  'sequential_5[0][0]']           \n",
      "                                                                                                  \n",
      " lstm (LSTM)                    (None, 32)           32384       ['concatenate[0][0]']            \n",
      "                                                                                                  \n",
      " dropout_6 (Dropout)            (None, 32)           0           ['lstm[0][0]']                   \n",
      "                                                                                                  \n",
      " dense (Dense)                  (None, 38)           1254        ['dropout_6[0][0]']              \n",
      "                                                                                                  \n",
      " activation_1 (Activation)      (None, 38)           0           ['dense[0][0]']                  \n",
      "                                                                                                  \n",
      "==================================================================================================\n",
      "Total params: 38,730\n",
      "Trainable params: 38,730\n",
      "Non-trainable params: 0\n",
      "__________________________________________________________________________________________________\n"
     ]
    }
   ],
   "source": [
    "model.summary()"
   ]
  },
  {
   "cell_type": "code",
   "execution_count": null,
   "id": "d6d5ac6f-4dcf-493b-b8e9-e882b99d6a05",
   "metadata": {},
   "outputs": [],
   "source": [
    "history = model.fit([inputs_train, queries_train], answers_train, batch_size=32, epochs=20, validation_data=([inputs_test, queries_test], answers_test))"
   ]
  },
  {
   "cell_type": "code",
   "execution_count": 97,
   "id": "561931e2-0691-48bd-9900-11fb82e0d9c9",
   "metadata": {},
   "outputs": [],
   "source": [
    "model.load_weights('/home/viper/Downloads/UPDATED_NLP_COURSE/06-Deep-Learning/chatbot_10.h5')"
   ]
  },
  {
   "cell_type": "code",
   "execution_count": 98,
   "id": "10683fb5-54dc-4fc4-ae21-b873b9636682",
   "metadata": {},
   "outputs": [
    {
     "name": "stdout",
     "output_type": "stream",
     "text": [
      "32/32 [==============================] - 1s 5ms/step\n"
     ]
    }
   ],
   "source": [
    "pred_results = model.predict(([inputs_test, queries_test]))"
   ]
  },
  {
   "cell_type": "code",
   "execution_count": 102,
   "id": "74ad28e6-9e66-4b50-abc1-b0704223ad9a",
   "metadata": {},
   "outputs": [],
   "source": [
    "val_max = np.argmax(pred_results[0])"
   ]
  },
  {
   "cell_type": "code",
   "execution_count": 103,
   "id": "2d021b83-2490-470a-89ff-0f4fdec3d641",
   "metadata": {},
   "outputs": [],
   "source": [
    "for key, val in tokenizer.word_index.items():\n",
    "    if val == val_max:\n",
    "        k = key"
   ]
  },
  {
   "cell_type": "code",
   "execution_count": 104,
   "id": "7329bfc1-7572-4fe7-a5d4-8f2f0aa7e88f",
   "metadata": {},
   "outputs": [
    {
     "data": {
      "text/plain": [
       "'.'"
      ]
     },
     "execution_count": 104,
     "metadata": {},
     "output_type": "execute_result"
    }
   ],
   "source": [
    "k"
   ]
  },
  {
   "cell_type": "code",
   "execution_count": 105,
   "id": "dcf0d13a-6ca1-42cd-a632-b0cea5f2b57d",
   "metadata": {},
   "outputs": [
    {
     "data": {
      "text/plain": [
       "0.98382735"
      ]
     },
     "execution_count": 105,
     "metadata": {},
     "output_type": "execute_result"
    }
   ],
   "source": [
    "pred_results[0][val_max]"
   ]
  },
  {
   "cell_type": "code",
   "execution_count": 106,
   "id": "a99f014d-26ef-47f6-9e91-29b9ccae8ec5",
   "metadata": {},
   "outputs": [
    {
     "data": {
      "text/plain": [
       "{'.',\n",
       " '?',\n",
       " 'Daniel',\n",
       " 'Is',\n",
       " 'John',\n",
       " 'Mary',\n",
       " 'Sandra',\n",
       " 'apple',\n",
       " 'back',\n",
       " 'bathroom',\n",
       " 'bedroom',\n",
       " 'discarded',\n",
       " 'down',\n",
       " 'dropped',\n",
       " 'football',\n",
       " 'garden',\n",
       " 'got',\n",
       " 'grabbed',\n",
       " 'hallway',\n",
       " 'in',\n",
       " 'journeyed',\n",
       " 'kitchen',\n",
       " 'left',\n",
       " 'milk',\n",
       " 'moved',\n",
       " 'no',\n",
       " 'office',\n",
       " 'picked',\n",
       " 'put',\n",
       " 'the',\n",
       " 'there',\n",
       " 'to',\n",
       " 'took',\n",
       " 'travelled',\n",
       " 'up',\n",
       " 'went',\n",
       " 'yes'}"
      ]
     },
     "execution_count": 106,
     "metadata": {},
     "output_type": "execute_result"
    }
   ],
   "source": [
    "vocab"
   ]
  },
  {
   "cell_type": "code",
   "execution_count": 107,
   "id": "0a3da174-9f03-43ff-92a9-a151999c21af",
   "metadata": {},
   "outputs": [],
   "source": [
    "story = 'John left the kitchen . Sandra dropped milk in kitchen . '"
   ]
  },
  {
   "cell_type": "code",
   "execution_count": 108,
   "id": "c821024b-774c-4c47-9a4e-62cca97711d1",
   "metadata": {},
   "outputs": [
    {
     "data": {
      "text/plain": [
       "['John',\n",
       " 'left',\n",
       " 'the',\n",
       " 'kitchen',\n",
       " '.',\n",
       " 'Sandra',\n",
       " 'dropped',\n",
       " 'milk',\n",
       " 'in',\n",
       " 'kitchen',\n",
       " '.']"
      ]
     },
     "execution_count": 108,
     "metadata": {},
     "output_type": "execute_result"
    }
   ],
   "source": [
    "story.split()"
   ]
  },
  {
   "cell_type": "code",
   "execution_count": 109,
   "id": "dfdf7f3b-7283-4151-906d-89fdac9faa01",
   "metadata": {},
   "outputs": [],
   "source": [
    "question = 'Is the milk in kitchen ? '"
   ]
  },
  {
   "cell_type": "code",
   "execution_count": 110,
   "id": "6653072a-44f4-4135-aa50-ac10dc4e2613",
   "metadata": {},
   "outputs": [
    {
     "data": {
      "text/plain": [
       "['Is', 'the', 'milk', 'in', 'kitchen', '?']"
      ]
     },
     "execution_count": 110,
     "metadata": {},
     "output_type": "execute_result"
    }
   ],
   "source": [
    "question.split()"
   ]
  },
  {
   "cell_type": "code",
   "execution_count": 112,
   "id": "81008d04-ee6b-433e-80cb-e7b7b3e82c38",
   "metadata": {},
   "outputs": [],
   "source": [
    "data = [(story.split(), question.split(), 'yes')]"
   ]
  },
  {
   "cell_type": "code",
   "execution_count": 113,
   "id": "5ed58eee-a8d9-4453-b230-6505dfa53db8",
   "metadata": {},
   "outputs": [
    {
     "data": {
      "text/plain": [
       "[(['John',\n",
       "   'left',\n",
       "   'the',\n",
       "   'kitchen',\n",
       "   '.',\n",
       "   'Sandra',\n",
       "   'dropped',\n",
       "   'milk',\n",
       "   'in',\n",
       "   'kitchen',\n",
       "   '.'],\n",
       "  ['Is', 'the', 'milk', 'in', 'kitchen', '?'],\n",
       "  'yes')]"
      ]
     },
     "execution_count": 113,
     "metadata": {},
     "output_type": "execute_result"
    }
   ],
   "source": [
    "data"
   ]
  },
  {
   "cell_type": "code",
   "execution_count": 114,
   "id": "014cfaa4-4447-484c-b9be-9d120fa16f1d",
   "metadata": {},
   "outputs": [],
   "source": [
    "n_story, n_ques, n_ans = vectorize_stories(data)"
   ]
  },
  {
   "cell_type": "code",
   "execution_count": 116,
   "id": "af2c5ad3-569e-4d2c-b464-5d893c4661dc",
   "metadata": {},
   "outputs": [
    {
     "name": "stdout",
     "output_type": "stream",
     "text": [
      "1/1 [==============================] - 0s 37ms/step\n"
     ]
    }
   ],
   "source": [
    "preds = model.predict(([n_story, n_ques]))"
   ]
  },
  {
   "cell_type": "code",
   "execution_count": 118,
   "id": "7234646c-329c-427e-9d11-85483ab2aeed",
   "metadata": {},
   "outputs": [
    {
     "data": {
      "text/plain": [
       "6"
      ]
     },
     "execution_count": 118,
     "metadata": {},
     "output_type": "execute_result"
    }
   ],
   "source": [
    "preds.argmax()"
   ]
  },
  {
   "cell_type": "code",
   "execution_count": null,
   "id": "40b968e7-1725-478e-a93a-4f654a087793",
   "metadata": {},
   "outputs": [],
   "source": []
  }
 ],
 "metadata": {
  "kernelspec": {
   "display_name": "Python 3 (ipykernel)",
   "language": "python",
   "name": "python3"
  },
  "language_info": {
   "codemirror_mode": {
    "name": "ipython",
    "version": 3
   },
   "file_extension": ".py",
   "mimetype": "text/x-python",
   "name": "python",
   "nbconvert_exporter": "python",
   "pygments_lexer": "ipython3",
   "version": "3.10.6"
  }
 },
 "nbformat": 4,
 "nbformat_minor": 5
}
