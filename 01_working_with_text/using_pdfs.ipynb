{
 "cells": [
  {
   "cell_type": "code",
   "execution_count": 1,
   "id": "7aa1d783-8865-47ce-bf32-906c804816d0",
   "metadata": {},
   "outputs": [],
   "source": [
    "import PyPDF2"
   ]
  },
  {
   "cell_type": "code",
   "execution_count": 4,
   "id": "b6e3f45a-69d6-459d-8364-55c017d59cae",
   "metadata": {},
   "outputs": [],
   "source": [
    "file = open('US_Declaration.pdf', mode='rb')"
   ]
  },
  {
   "cell_type": "code",
   "execution_count": 6,
   "id": "e5fa72ed-8879-46cd-952f-68f2aa5ef002",
   "metadata": {},
   "outputs": [],
   "source": [
    "pdf_reader = PyPDF2.PdfReader(file)"
   ]
  },
  {
   "cell_type": "code",
   "execution_count": 9,
   "id": "0aed04ec-602d-4fc2-b594-9f730ab84000",
   "metadata": {},
   "outputs": [
    {
     "data": {
      "text/plain": [
       "5"
      ]
     },
     "execution_count": 9,
     "metadata": {},
     "output_type": "execute_result"
    }
   ],
   "source": [
    "len(pdf_reader.pages)"
   ]
  },
  {
   "cell_type": "code",
   "execution_count": 11,
   "id": "5a3363c2-a13f-49f8-9fc4-e542f9d8711d",
   "metadata": {},
   "outputs": [],
   "source": [
    "page1 = pdf_reader.pages[0]"
   ]
  },
  {
   "cell_type": "code",
   "execution_count": 13,
   "id": "2c3be3bc-23a8-4329-a414-14adf56ff22b",
   "metadata": {},
   "outputs": [
    {
     "data": {
      "text/plain": [
       "\"Declaration of Independence\\nIN CONGRESS, July 4, 1776.  \\nThe unanimous Declaration of the thirteen united States of America,  \\nWhen in the Course of human events, it becomes necessary for one people to dissolve thepolitical bands which have connected them with another, and to assume among the powers of theearth, the separate and equal station to which the Laws of Nature and of Nature's God entitlethem, a decent respect to the opinions of mankind requires that they should declare the causeswhich impel them to the separation. We hold these truths to be self-evident, that all men are created equal, that they are endowed bytheir Creator with certain unalienable Rights, that among these are Life, Liberty and the pursuit\\nof Happiness.— \\x14That to secure these rights, Governments are instituted among Men, derivingtheir just powers from the consent of the governed,—  \\x14That whenever any Form of Government\\nbecomes destructive of these ends, it is the Right of the People to alter or to abolish it, and to\\ninstitute new Government, laying its foundation on such principles and organizing its powers in\\nsuch form, as to them shall seem most likely to effect their Safety and Happiness. Prudence,indeed, will dictate that Governments long established should not be changed for light andtransient causes; and accordingly all experience hath shewn, that mankind are more disposed to\\nsuffer, while evils are sufferable, than to right themselves by abolishing the forms to which theyare accustomed. But when a long train of abuses and usurpations, pursuing invariably the same\\nObject evinces a design to reduce them under absolute Despotism, it is their right, it is their duty,\\nto throw off such Government, and to provide new Guards for their future securit y.— \\x14Such has\\nbeen the patient sufferance of these Colonies; and such is now the necessity which constrainsthem to alter their former Systems of Government. The history of the present King of GreatBritain is a history of repeated injuries and usurpations, all having in direct object the\\nestablishment of an absolute Tyranny over these States. To prove this, let Facts be submitted to a\\ncandid world. \\nHe has refused his Assent to Laws, the most wholesome and necessary for the\\npublic good.He has forbidden his Governors to pass Laws of immediate and pressingimportance, unless suspended in their operation till his Assent should be obtained;and when so suspended, he has utterly neglected to attend to them.He has refused to pass other Laws for the accommodation of large districts of\\npeople, unless those people would relinquish the right of Representation in theLegislature, a right inestimable to them and formidable to tyrants only. He has called together legislative bodies at places unusual, uncomfortable, and distantfrom the depository of their public Records, for the sole purpose of fatiguing them into\\ncompliance with his measures.\""
      ]
     },
     "execution_count": 13,
     "metadata": {},
     "output_type": "execute_result"
    }
   ],
   "source": [
    "page1.extract_text()"
   ]
  },
  {
   "cell_type": "code",
   "execution_count": 16,
   "id": "ca4b5411-1431-4fa5-aa14-3cbd57664609",
   "metadata": {},
   "outputs": [
    {
     "data": {
      "text/plain": [
       "False"
      ]
     },
     "execution_count": 16,
     "metadata": {},
     "output_type": "execute_result"
    }
   ],
   "source": [
    "file.closed"
   ]
  },
  {
   "cell_type": "code",
   "execution_count": 17,
   "id": "ad70cf30-c870-423f-9f4e-736a1a35486f",
   "metadata": {},
   "outputs": [],
   "source": [
    "file.close()"
   ]
  },
  {
   "cell_type": "code",
   "execution_count": 18,
   "id": "e6b970a0-aaec-4b72-97b6-6a02c867fc64",
   "metadata": {},
   "outputs": [],
   "source": [
    "file = open('US_Declaration.pdf', mode='rb')"
   ]
  },
  {
   "cell_type": "code",
   "execution_count": 19,
   "id": "3a49cb69-92f8-4624-afa5-d40ab8883877",
   "metadata": {},
   "outputs": [],
   "source": [
    "pdf_reader = PyPDF2.PdfReader(file)"
   ]
  },
  {
   "cell_type": "code",
   "execution_count": 20,
   "id": "fd7cbd74-3658-472c-880c-0ec4ba9aa37d",
   "metadata": {},
   "outputs": [],
   "source": [
    "first_page = pdf_reader.pages[0]"
   ]
  },
  {
   "cell_type": "code",
   "execution_count": 21,
   "id": "11f08970-0cfd-4e16-9162-3372249436cc",
   "metadata": {},
   "outputs": [],
   "source": [
    "pdf_writer = PyPDF2.PdfWriter()"
   ]
  },
  {
   "cell_type": "code",
   "execution_count": null,
   "id": "4562193b-ddfb-4bd6-9a22-885803157af5",
   "metadata": {},
   "outputs": [],
   "source": [
    "pdf_writer.add_page(first_page)"
   ]
  },
  {
   "cell_type": "code",
   "execution_count": 31,
   "id": "0ea6a94c-4ceb-4f9c-8fbc-e80ac93ab579",
   "metadata": {},
   "outputs": [],
   "source": [
    "pdf_output = open('new_pdf.pdf', 'wb')"
   ]
  },
  {
   "cell_type": "code",
   "execution_count": 33,
   "id": "ad44f7e7-79e2-4701-882b-097677542633",
   "metadata": {},
   "outputs": [
    {
     "data": {
      "text/plain": [
       "(False, <_io.BufferedWriter name='new_pdf.pdf'>)"
      ]
     },
     "execution_count": 33,
     "metadata": {},
     "output_type": "execute_result"
    }
   ],
   "source": [
    "pdf_writer.write(pdf_output)"
   ]
  },
  {
   "cell_type": "code",
   "execution_count": 34,
   "id": "1e4a825f-89be-449e-95f6-6e8a15eb3413",
   "metadata": {},
   "outputs": [],
   "source": [
    "pdf_writer.close()"
   ]
  },
  {
   "cell_type": "code",
   "execution_count": 35,
   "id": "cb4a037e-b9e5-4e69-aa97-dd7cf51fcfe7",
   "metadata": {},
   "outputs": [],
   "source": [
    "pdf_writer.close()"
   ]
  },
  {
   "cell_type": "code",
   "execution_count": 36,
   "id": "01a0bbc0-eeb8-47eb-b46a-c88aa974398b",
   "metadata": {},
   "outputs": [],
   "source": [
    "new_pdf = open('new_pdf.pdf', 'rb')"
   ]
  },
  {
   "cell_type": "code",
   "execution_count": 37,
   "id": "239136fa-c403-4fe5-b769-b2ef76c82724",
   "metadata": {},
   "outputs": [],
   "source": [
    "pdf_reader = PyPDF2.PdfReader(new_pdf)"
   ]
  },
  {
   "cell_type": "code",
   "execution_count": 38,
   "id": "1ef290df-3f85-4d9a-9f06-36355c817142",
   "metadata": {},
   "outputs": [],
   "source": [
    "file = open('US_Declaration.pdf', 'rb')"
   ]
  },
  {
   "cell_type": "code",
   "execution_count": 41,
   "id": "c8a0807d-2170-4f65-b5c1-5d1dc501e2e8",
   "metadata": {},
   "outputs": [],
   "source": [
    "pdf_text = []"
   ]
  },
  {
   "cell_type": "code",
   "execution_count": 42,
   "id": "7aa9bfe5-bd3e-4483-933a-15fcae6cbe81",
   "metadata": {},
   "outputs": [],
   "source": [
    "pdf_reader = PyPDF2.PdfReader(file)"
   ]
  },
  {
   "cell_type": "code",
   "execution_count": 43,
   "id": "f2be9944-70bf-461d-a497-9d015d3eb35c",
   "metadata": {},
   "outputs": [],
   "source": [
    "for i in range(len(pdf_reader.pages)):\n",
    "    page = pdf_reader.pages[i]\n",
    "    pdf_text.append(page.extract_text())"
   ]
  },
  {
   "cell_type": "code",
   "execution_count": 45,
   "id": "1fc8fd3a-6f2d-4001-8ade-bc835ea477e6",
   "metadata": {},
   "outputs": [
    {
     "data": {
      "text/plain": [
       "5"
      ]
     },
     "execution_count": 45,
     "metadata": {},
     "output_type": "execute_result"
    }
   ],
   "source": [
    "len(pdf_text)"
   ]
  },
  {
   "cell_type": "code",
   "execution_count": null,
   "id": "8f1f8c64-485d-4d5f-9914-e50ecbf40bc2",
   "metadata": {},
   "outputs": [],
   "source": []
  }
 ],
 "metadata": {
  "kernelspec": {
   "display_name": "Python 3 (ipykernel)",
   "language": "python",
   "name": "python3"
  },
  "language_info": {
   "codemirror_mode": {
    "name": "ipython",
    "version": 3
   },
   "file_extension": ".py",
   "mimetype": "text/x-python",
   "name": "python",
   "nbconvert_exporter": "python",
   "pygments_lexer": "ipython3",
   "version": "3.10.6"
  }
 },
 "nbformat": 4,
 "nbformat_minor": 5
}
