{
 "cells": [
  {
   "cell_type": "code",
   "execution_count": 2,
   "id": "8e0f1e0c-29b8-41c2-ab0c-1bd0c1bb2392",
   "metadata": {},
   "outputs": [],
   "source": [
    "# regular expression for pattern searching in text\n",
    "# r'\\d{3}-\\d{3}-\\d{4}'"
   ]
  },
  {
   "cell_type": "code",
   "execution_count": 54,
   "id": "cf2cbd8d-c33a-4d2d-b204-a253864612cf",
   "metadata": {},
   "outputs": [],
   "source": [
    " text = \"The phone number is +91 9780915965. Call soon on my phone 888-932-3215!\""
   ]
  },
  {
   "cell_type": "code",
   "execution_count": 12,
   "id": "590b73b4-0af1-4d8d-a32f-65693d3d2cd9",
   "metadata": {},
   "outputs": [
    {
     "data": {
      "text/plain": [
       "True"
      ]
     },
     "execution_count": 12,
     "metadata": {},
     "output_type": "execute_result"
    }
   ],
   "source": [
    "\"9780915965\" in text"
   ]
  },
  {
   "cell_type": "code",
   "execution_count": 13,
   "id": "d1edef44-e979-47ee-992d-d6a52f132b5c",
   "metadata": {},
   "outputs": [],
   "source": [
    "import re"
   ]
  },
  {
   "cell_type": "code",
   "execution_count": 23,
   "id": "efa3a92b-6a6f-4000-9702-dc163a83386f",
   "metadata": {},
   "outputs": [],
   "source": [
    "pattern = \"phone\""
   ]
  },
  {
   "cell_type": "code",
   "execution_count": 15,
   "id": "cc886c82-83fd-4d2c-8b8d-b421fdf63d12",
   "metadata": {},
   "outputs": [
    {
     "data": {
      "text/plain": [
       "<re.Match object; span=(4, 9), match='phone'>"
      ]
     },
     "execution_count": 15,
     "metadata": {},
     "output_type": "execute_result"
    }
   ],
   "source": [
    "re.search(pattern, text)"
   ]
  },
  {
   "cell_type": "code",
   "execution_count": 16,
   "id": "22d66798-42e4-416e-a956-03c53eb57403",
   "metadata": {},
   "outputs": [],
   "source": [
    "match = re.search(pattern, text) # returns the first instance of pattern by default"
   ]
  },
  {
   "cell_type": "code",
   "execution_count": 17,
   "id": "62998353-ea2c-4f90-bee6-e5a28c5ff033",
   "metadata": {},
   "outputs": [
    {
     "data": {
      "text/plain": [
       "(4, 9)"
      ]
     },
     "execution_count": 17,
     "metadata": {},
     "output_type": "execute_result"
    }
   ],
   "source": [
    "match.span() "
   ]
  },
  {
   "cell_type": "code",
   "execution_count": 18,
   "id": "805a2a01-f03f-4804-9bff-27298b099bbb",
   "metadata": {},
   "outputs": [],
   "source": [
    "all_matches = re.findall(pattern, text)"
   ]
  },
  {
   "cell_type": "code",
   "execution_count": 20,
   "id": "dcc09d5e-c61e-4fae-8ae9-f4a745b8fe23",
   "metadata": {},
   "outputs": [
    {
     "name": "stdout",
     "output_type": "stream",
     "text": [
      "(4, 9)\n",
      "(48, 53)\n"
     ]
    }
   ],
   "source": [
    "for match in re.finditer(\"phone\", text): # returns a iterrator\n",
    "    print(match.span())"
   ]
  },
  {
   "cell_type": "code",
   "execution_count": 59,
   "id": "3214a1d3-a8e0-47d6-84df-37391025f20e",
   "metadata": {},
   "outputs": [],
   "source": [
    "phone_pattern = r'(\\W?\\d*)\\s*\\d{10}'"
   ]
  },
  {
   "cell_type": "code",
   "execution_count": 60,
   "id": "67ffa83e-8f54-493c-8886-7a0d34ff9b6f",
   "metadata": {},
   "outputs": [],
   "source": [
    "phone_number = re.search(phone_pattern, text)"
   ]
  },
  {
   "cell_type": "code",
   "execution_count": 65,
   "id": "2a899ea5-9b92-4a0c-b034-a4180adb20f8",
   "metadata": {},
   "outputs": [
    {
     "data": {
      "text/plain": [
       "'+91'"
      ]
     },
     "execution_count": 65,
     "metadata": {},
     "output_type": "execute_result"
    }
   ],
   "source": [
    "phone_number.group(1)"
   ]
  },
  {
   "cell_type": "code",
   "execution_count": 55,
   "id": "285436f0-b9b3-4d88-9bfc-0d20f7609d1c",
   "metadata": {},
   "outputs": [],
   "source": [
    "us_phone_pattern = r'(\\d{3})-(\\d{3})-(\\d{4})'"
   ]
  },
  {
   "cell_type": "code",
   "execution_count": 56,
   "id": "c6536771-79ec-4b0e-8979-348f74eb41eb",
   "metadata": {},
   "outputs": [],
   "source": [
    "us_phone = re.search(us_phone_pattern, text)"
   ]
  },
  {
   "cell_type": "code",
   "execution_count": 58,
   "id": "b5342a4c-9165-45e8-8626-41c56777ee14",
   "metadata": {},
   "outputs": [
    {
     "data": {
      "text/plain": [
       "'888'"
      ]
     },
     "execution_count": 58,
     "metadata": {},
     "output_type": "execute_result"
    }
   ],
   "source": [
    "us_phone.group(1)"
   ]
  },
  {
   "cell_type": "code",
   "execution_count": 66,
   "id": "3bbd9931-718b-49c4-98cc-712d3ab54a52",
   "metadata": {},
   "outputs": [],
   "source": [
    "# Or operator using |"
   ]
  },
  {
   "cell_type": "code",
   "execution_count": 68,
   "id": "55189204-fd79-4f94-9d2c-f70ced76d8d3",
   "metadata": {},
   "outputs": [
    {
     "data": {
      "text/plain": [
       "<re.Match object; span=(5, 10), match='woman'>"
      ]
     },
     "execution_count": 68,
     "metadata": {},
     "output_type": "execute_result"
    }
   ],
   "source": [
    "re.search(r\"man|woman\", \"This woman was here\")"
   ]
  },
  {
   "cell_type": "code",
   "execution_count": 71,
   "id": "9f88b7fa-3809-4542-8809-01063ac6a784",
   "metadata": {},
   "outputs": [],
   "source": [
    "# wild card character using ."
   ]
  },
  {
   "cell_type": "code",
   "execution_count": 70,
   "id": "0cf9b316-02b6-4e1e-8ac3-d20f05ad4818",
   "metadata": {},
   "outputs": [
    {
     "data": {
      "text/plain": [
       "['cat', 'hat', 'sat']"
      ]
     },
     "execution_count": 70,
     "metadata": {},
     "output_type": "execute_result"
    }
   ],
   "source": [
    "re.findall(r\".at\", \"the cat in the hat sat\")"
   ]
  },
  {
   "cell_type": "code",
   "execution_count": 74,
   "id": "dc8a8b1b-fee3-468a-957e-79eb957c8eee",
   "metadata": {},
   "outputs": [
    {
     "data": {
      "text/plain": [
       "['2']"
      ]
     },
     "execution_count": 74,
     "metadata": {},
     "output_type": "execute_result"
    }
   ],
   "source": [
    "re.findall(r\"\\d$\", 'This ends with number 2') # endswith using $"
   ]
  },
  {
   "cell_type": "code",
   "execution_count": 76,
   "id": "3967067a-18bc-4a05-8960-f9f36209c22e",
   "metadata": {},
   "outputs": [
    {
     "data": {
      "text/plain": [
       "['2']"
      ]
     },
     "execution_count": 76,
     "metadata": {},
     "output_type": "execute_result"
    }
   ],
   "source": [
    "re.findall(f'^\\d', '2 is the number it startswith') # startswith using ^"
   ]
  },
  {
   "cell_type": "code",
   "execution_count": 77,
   "id": "8469fa6a-f781-4ac1-9c57-0517b0a20425",
   "metadata": {},
   "outputs": [],
   "source": [
    "phrase = \"there are 3 numbers 34 inside 5 this sentence\""
   ]
  },
  {
   "cell_type": "code",
   "execution_count": 81,
   "id": "557d610c-02f8-46d9-985b-9e2d63ab806c",
   "metadata": {},
   "outputs": [
    {
     "data": {
      "text/plain": [
       "['there are ', ' numbers ', ' inside ', ' this sentence']"
      ]
     },
     "execution_count": 81,
     "metadata": {},
     "output_type": "execute_result"
    }
   ],
   "source": [
    "re.findall(r'[^\\d]+', phrase) # returns anything that isn't a digit"
   ]
  },
  {
   "cell_type": "code",
   "execution_count": 82,
   "id": "2e373ebd-d653-4f35-bb28-0a554442e25a",
   "metadata": {},
   "outputs": [],
   "source": [
    "another_phrase = \"This a string! but it has punctuations. How to remove it?\""
   ]
  },
  {
   "cell_type": "code",
   "execution_count": 86,
   "id": "4e1f724a-6ae8-4f8c-a460-9933ef5f9849",
   "metadata": {},
   "outputs": [
    {
     "data": {
      "text/plain": [
       "['This',\n",
       " 'a',\n",
       " 'string',\n",
       " 'but',\n",
       " 'it',\n",
       " 'has',\n",
       " 'punctuations',\n",
       " 'How',\n",
       " 'to',\n",
       " 'remove',\n",
       " 'it']"
      ]
     },
     "execution_count": 86,
     "metadata": {},
     "output_type": "execute_result"
    }
   ],
   "source": [
    "re.findall(r\"[^.!? ]+\", another_phrase) # within the [ ] there is a space as well "
   ]
  },
  {
   "cell_type": "code",
   "execution_count": 87,
   "id": "859206c2-dc5a-4cb9-8a46-3a45ef4501c4",
   "metadata": {},
   "outputs": [],
   "source": [
    "some_text = \"Only find the hyphen-words. Were are the long-ish dash words?\""
   ]
  },
  {
   "cell_type": "code",
   "execution_count": 88,
   "id": "9e331f8d-b294-4310-b808-3f339959529b",
   "metadata": {},
   "outputs": [
    {
     "data": {
      "text/plain": [
       "['hyphen-words', 'long-ish']"
      ]
     },
     "execution_count": 88,
     "metadata": {},
     "output_type": "execute_result"
    }
   ],
   "source": [
    "re.findall(r'[\\w]+-[\\w]+', some_text)"
   ]
  },
  {
   "cell_type": "code",
   "execution_count": null,
   "id": "d75e1572-ff77-463d-8f30-c8f08901305b",
   "metadata": {},
   "outputs": [],
   "source": []
  }
 ],
 "metadata": {
  "kernelspec": {
   "display_name": "Python 3 (ipykernel)",
   "language": "python",
   "name": "python3"
  },
  "language_info": {
   "codemirror_mode": {
    "name": "ipython",
    "version": 3
   },
   "file_extension": ".py",
   "mimetype": "text/x-python",
   "name": "python",
   "nbconvert_exporter": "python",
   "pygments_lexer": "ipython3",
   "version": "3.10.6"
  }
 },
 "nbformat": 4,
 "nbformat_minor": 5
}
