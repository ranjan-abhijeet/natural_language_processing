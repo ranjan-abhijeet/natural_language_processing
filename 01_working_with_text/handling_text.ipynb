{
 "cells": [
  {
   "cell_type": "code",
   "execution_count": 1,
   "id": "6741b218-de0d-40c5-af5c-9adf32f1bc84",
   "metadata": {},
   "outputs": [],
   "source": [
    "library = [('Author', 'Topic', 'Pages'), ('Twain', 'Rafting in water alone', 601), ('Feynman', 'Physics', 95), ('Hamilton', 'Mythology', 144)]"
   ]
  },
  {
   "cell_type": "code",
   "execution_count": 2,
   "id": "40fc638f-cae6-463a-b830-f8d9be059834",
   "metadata": {},
   "outputs": [
    {
     "name": "stdout",
     "output_type": "stream",
     "text": [
      "Author Topic Pages\n",
      "Twain Rafting in water alone 601\n",
      "Feynman Physics 95\n",
      "Hamilton Mythology 144\n"
     ]
    }
   ],
   "source": [
    "for author, topic, pages in library:\n",
    "    print(f\"{author} {topic} {pages}\")"
   ]
  },
  {
   "cell_type": "code",
   "execution_count": 5,
   "id": "d277601a-8acb-409c-b01e-aad81e52c20a",
   "metadata": {},
   "outputs": [
    {
     "name": "stdout",
     "output_type": "stream",
     "text": [
      "Author     Topic                          Pages     \n",
      "Twain      Rafting in water alone                601\n",
      "Feynman    Physics                                95\n",
      "Hamilton   Mythology                             144\n"
     ]
    }
   ],
   "source": [
    "for author, topic, pages in library:\n",
    "    print(f\"{author:{10}} {topic:{30}} {pages:{10}}\") \n",
    "    # adding a padding of 10 spaces after each item is printed "
   ]
  },
  {
   "cell_type": "code",
   "execution_count": 6,
   "id": "4b268b43-2d4a-4042-aec8-f4ead2c34356",
   "metadata": {},
   "outputs": [
    {
     "name": "stdout",
     "output_type": "stream",
     "text": [
      "Author     Topic                               Pages\n",
      "Twain      Rafting in water alone                601\n",
      "Feynman    Physics                                95\n",
      "Hamilton   Mythology                             144\n"
     ]
    }
   ],
   "source": [
    "for author, topic, pages in library:\n",
    "    print(f\"{author:{10}} {topic:{30}} {pages:>{10}}\")"
   ]
  },
  {
   "cell_type": "code",
   "execution_count": 8,
   "id": "84884997-c3bb-4ae2-a873-a43fdc78331a",
   "metadata": {},
   "outputs": [
    {
     "name": "stdout",
     "output_type": "stream",
     "text": [
      "Author     Topic                          .....Pages\n",
      "Twain      Rafting in water alone         .......601\n",
      "Feynman    Physics                        ........95\n",
      "Hamilton   Mythology                      .......144\n"
     ]
    }
   ],
   "source": [
    "for author, topic, pages in library:\n",
    "    print(f\"{author:{10}} {topic:{30}} {pages:.>{10}}\")"
   ]
  },
  {
   "cell_type": "code",
   "execution_count": 9,
   "id": "2fdfbfc6-b5b0-47d6-be9b-a64c6ad14699",
   "metadata": {},
   "outputs": [],
   "source": [
    "from datetime import datetime"
   ]
  },
  {
   "cell_type": "code",
   "execution_count": 10,
   "id": "bea1392d-2c9e-4030-8020-28f154633d8d",
   "metadata": {},
   "outputs": [],
   "source": [
    "today = datetime(year=2019, month=2, day=28)"
   ]
  },
  {
   "cell_type": "code",
   "execution_count": 11,
   "id": "efd78587-bd43-49a7-9d36-cf1bacdbdc5a",
   "metadata": {},
   "outputs": [
    {
     "data": {
      "text/plain": [
       "datetime.datetime(2019, 2, 28, 0, 0)"
      ]
     },
     "execution_count": 11,
     "metadata": {},
     "output_type": "execute_result"
    }
   ],
   "source": [
    "today"
   ]
  },
  {
   "cell_type": "code",
   "execution_count": 45,
   "id": "cb3a8475-e2be-423f-a0fe-89da9244c670",
   "metadata": {},
   "outputs": [
    {
     "name": "stdout",
     "output_type": "stream",
     "text": [
      "\"28-02-2019 00:00:00\"\n"
     ]
    }
   ],
   "source": [
    "print(f'{today:\"%d-%m-%Y %H:%M:%S\"}') # formatting datetime object"
   ]
  },
  {
   "cell_type": "code",
   "execution_count": 14,
   "id": "9015bb40-796a-44a0-87ac-8bf381386ea9",
   "metadata": {},
   "outputs": [
    {
     "name": "stdout",
     "output_type": "stream",
     "text": [
      "Writing test.txt\n"
     ]
    }
   ],
   "source": [
    "%%writefile test.txt\n",
    "Creating a test file, this is first line.\n",
    "This is the second line of the file."
   ]
  },
  {
   "cell_type": "code",
   "execution_count": 40,
   "id": "656f200e-acb3-4721-a571-654e7ef9ff3d",
   "metadata": {},
   "outputs": [],
   "source": [
    "file = open('test.txt')"
   ]
  },
  {
   "cell_type": "code",
   "execution_count": 41,
   "id": "dc6478a0-90f3-46dc-9400-a7454e994c89",
   "metadata": {},
   "outputs": [
    {
     "data": {
      "text/plain": [
       "'Creating a test file, this is first line.\\nThis is the second line of the file.\\n'"
      ]
     },
     "execution_count": 41,
     "metadata": {},
     "output_type": "execute_result"
    }
   ],
   "source": [
    "file.read()"
   ]
  },
  {
   "cell_type": "code",
   "execution_count": 42,
   "id": "ec4c46b6-11f2-4c40-a0f5-0ab47c141047",
   "metadata": {},
   "outputs": [
    {
     "data": {
      "text/plain": [
       "''"
      ]
     },
     "execution_count": 42,
     "metadata": {},
     "output_type": "execute_result"
    }
   ],
   "source": [
    "file.read() # cursor reached end of file, returns empty string."
   ]
  },
  {
   "cell_type": "code",
   "execution_count": 46,
   "id": "b24eff69-2605-4e8f-9a1b-2cb14aca1ce3",
   "metadata": {},
   "outputs": [
    {
     "data": {
      "text/plain": [
       "0"
      ]
     },
     "execution_count": 46,
     "metadata": {},
     "output_type": "execute_result"
    }
   ],
   "source": [
    "file.seek(0) # resetting the cursor"
   ]
  },
  {
   "cell_type": "code",
   "execution_count": 47,
   "id": "0e0341f6-71a7-43bd-a6b9-52ce93eca281",
   "metadata": {},
   "outputs": [],
   "source": [
    "data = file.read()"
   ]
  },
  {
   "cell_type": "code",
   "execution_count": 49,
   "id": "c202efa2-25dc-481f-b31f-46976bee6484",
   "metadata": {},
   "outputs": [
    {
     "data": {
      "text/plain": [
       "'Creating a test file, this is first line.\\nThis is the second line of the file.\\n'"
      ]
     },
     "execution_count": 49,
     "metadata": {},
     "output_type": "execute_result"
    }
   ],
   "source": [
    "data # a reference to the file object is created"
   ]
  },
  {
   "cell_type": "code",
   "execution_count": 50,
   "id": "2c30b5e3-9b81-42e2-a1cd-845b6aa0f90f",
   "metadata": {},
   "outputs": [],
   "source": [
    "file.close() # closing the file "
   ]
  },
  {
   "cell_type": "code",
   "execution_count": 52,
   "id": "ea048e46-2b2a-4a26-9b3c-e48546f6199b",
   "metadata": {},
   "outputs": [],
   "source": [
    "file = open('test.txt', mode='w')"
   ]
  },
  {
   "cell_type": "code",
   "execution_count": 53,
   "id": "eea6b6fa-09d0-4f16-9d2a-f68c22ed0630",
   "metadata": {},
   "outputs": [
    {
     "data": {
      "text/plain": [
       "29"
      ]
     },
     "execution_count": 53,
     "metadata": {},
     "output_type": "execute_result"
    }
   ],
   "source": [
    "file.write('This should be the third line') # w mode overwrites the file."
   ]
  },
  {
   "cell_type": "code",
   "execution_count": 56,
   "id": "a7d794d9-cf59-4d87-848f-53f0d2a0ced3",
   "metadata": {},
   "outputs": [],
   "source": [
    "file.close()"
   ]
  },
  {
   "cell_type": "code",
   "execution_count": 57,
   "id": "cd54d514-289f-47fe-b58c-89489e5efa31",
   "metadata": {},
   "outputs": [],
   "source": [
    "file = open('test.txt')"
   ]
  },
  {
   "cell_type": "code",
   "execution_count": 58,
   "id": "951c1e39-7bec-468f-b9fd-698bf692bddf",
   "metadata": {},
   "outputs": [
    {
     "data": {
      "text/plain": [
       "['This should be the third line']"
      ]
     },
     "execution_count": 58,
     "metadata": {},
     "output_type": "execute_result"
    }
   ],
   "source": [
    "file.readlines()"
   ]
  },
  {
   "cell_type": "code",
   "execution_count": 59,
   "id": "532285c1-27a4-4a41-96ad-67be4290684b",
   "metadata": {},
   "outputs": [],
   "source": [
    "file.close()"
   ]
  },
  {
   "cell_type": "code",
   "execution_count": 67,
   "id": "ae2ae56a-0111-41db-aa4f-7c2ac7575f25",
   "metadata": {},
   "outputs": [],
   "source": [
    "file = open('test.txt', mode='a+')"
   ]
  },
  {
   "cell_type": "code",
   "execution_count": 68,
   "id": "fc04eff7-44de-4698-8732-fcb0fa49a79d",
   "metadata": {},
   "outputs": [
    {
     "data": {
      "text/plain": [
       "17"
      ]
     },
     "execution_count": 68,
     "metadata": {},
     "output_type": "execute_result"
    }
   ],
   "source": [
    "file.write('Is this appended?')"
   ]
  },
  {
   "cell_type": "code",
   "execution_count": 69,
   "id": "61e48135-86ed-4e31-979f-8aaabd1b81ef",
   "metadata": {},
   "outputs": [],
   "source": [
    "file.close()"
   ]
  },
  {
   "cell_type": "code",
   "execution_count": 71,
   "id": "7911cea8-0b76-4530-986d-0445c6187364",
   "metadata": {},
   "outputs": [],
   "source": [
    "file = open('test.txt')"
   ]
  },
  {
   "cell_type": "code",
   "execution_count": 72,
   "id": "2137f8e2-62b1-4a54-86d2-7b27606ef6ad",
   "metadata": {},
   "outputs": [
    {
     "data": {
      "text/plain": [
       "'This should be the third lineIs this appended?Is this appended?'"
      ]
     },
     "execution_count": 72,
     "metadata": {},
     "output_type": "execute_result"
    }
   ],
   "source": [
    "file.read()"
   ]
  },
  {
   "cell_type": "code",
   "execution_count": 74,
   "id": "b7eeea6e-ff4d-4af0-a300-927d370b210a",
   "metadata": {},
   "outputs": [
    {
     "name": "stdout",
     "output_type": "stream",
     "text": [
      "This should be the third lineIs this appended?Is this appended?\n"
     ]
    }
   ],
   "source": [
    "with open('test.txt') as file:\n",
    "    for line in file.readlines():\n",
    "        print(line)"
   ]
  },
  {
   "cell_type": "code",
   "execution_count": null,
   "id": "544ac3df-d0af-48ff-980e-a0b3a29acbe3",
   "metadata": {},
   "outputs": [],
   "source": []
  }
 ],
 "metadata": {
  "kernelspec": {
   "display_name": "Python 3 (ipykernel)",
   "language": "python",
   "name": "python3"
  },
  "language_info": {
   "codemirror_mode": {
    "name": "ipython",
    "version": 3
   },
   "file_extension": ".py",
   "mimetype": "text/x-python",
   "name": "python",
   "nbconvert_exporter": "python",
   "pygments_lexer": "ipython3",
   "version": "3.10.6"
  }
 },
 "nbformat": 4,
 "nbformat_minor": 5
}
