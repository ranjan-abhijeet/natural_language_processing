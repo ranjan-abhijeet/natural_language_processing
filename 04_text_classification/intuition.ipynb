{
 "cells": [
  {
   "cell_type": "code",
   "execution_count": 1,
   "id": "8874905b-bdd6-4297-afca-f063bdacaa73",
   "metadata": {},
   "outputs": [
    {
     "name": "stdout",
     "output_type": "stream",
     "text": [
      "Writing one.txt\n"
     ]
    }
   ],
   "source": [
    "%%writefile one.txt\n",
    "This is a story about cats\n",
    "our feline pets\n",
    "Cats are furry animals"
   ]
  },
  {
   "cell_type": "code",
   "execution_count": 2,
   "id": "874a661e-755f-4c6f-ae11-ee8cc34b6cf9",
   "metadata": {},
   "outputs": [
    {
     "name": "stdout",
     "output_type": "stream",
     "text": [
      "Writing two.txt\n"
     ]
    }
   ],
   "source": [
    "%%writefile two.txt\n",
    "This story is about surfing\n",
    "Catching waves is fun\n",
    "Surfing is a popular water sports"
   ]
  },
  {
   "cell_type": "code",
   "execution_count": 3,
   "id": "347e1b4c-2d9c-439b-a218-9fd679d67869",
   "metadata": {},
   "outputs": [],
   "source": [
    "# Building vocabulary"
   ]
  },
  {
   "cell_type": "code",
   "execution_count": 19,
   "id": "de3d52df-0bef-4da0-aec1-00aa10ae6400",
   "metadata": {},
   "outputs": [],
   "source": [
    "vocab = {}\n",
    "i = 1\n",
    "\n",
    "with open('one.txt') as file:\n",
    "    words = file.read().lower().split()"
   ]
  },
  {
   "cell_type": "code",
   "execution_count": 20,
   "id": "00de702c-4354-4988-a98b-f00904719178",
   "metadata": {},
   "outputs": [],
   "source": [
    "for word in words:\n",
    "    if word in vocab.keys():\n",
    "        continue\n",
    "    else:\n",
    "        vocab[word]=i\n",
    "        i+=1"
   ]
  },
  {
   "cell_type": "code",
   "execution_count": 21,
   "id": "3780d903-d4dd-4e20-b0f1-e61fcf887be7",
   "metadata": {},
   "outputs": [
    {
     "name": "stdout",
     "output_type": "stream",
     "text": [
      "{'this': 1, 'is': 2, 'a': 3, 'story': 4, 'about': 5, 'cats': 6, 'our': 7, 'feline': 8, 'pets': 9, 'are': 10, 'furry': 11, 'animals': 12}\n"
     ]
    }
   ],
   "source": [
    "print(vocab)"
   ]
  },
  {
   "cell_type": "code",
   "execution_count": 22,
   "id": "6b816201-e84b-4bc0-97f4-466a4395f0cd",
   "metadata": {},
   "outputs": [],
   "source": [
    "with open('two.txt') as file:\n",
    "    words = file.read().lower().split()\n",
    "    \n",
    "for word in words:\n",
    "    if word in vocab:\n",
    "        continue\n",
    "    else:\n",
    "        vocab[word]=i\n",
    "        i += 1"
   ]
  },
  {
   "cell_type": "code",
   "execution_count": 23,
   "id": "095c9540-75c6-4ee2-b7c6-2389c54f8237",
   "metadata": {},
   "outputs": [
    {
     "name": "stdout",
     "output_type": "stream",
     "text": [
      "{'this': 1, 'is': 2, 'a': 3, 'story': 4, 'about': 5, 'cats': 6, 'our': 7, 'feline': 8, 'pets': 9, 'are': 10, 'furry': 11, 'animals': 12, 'surfing': 13, 'catching': 14, 'waves': 15, 'fun': 16, 'popular': 17, 'water': 18, 'sports': 19}\n"
     ]
    }
   ],
   "source": [
    "print(vocab)"
   ]
  },
  {
   "cell_type": "code",
   "execution_count": 24,
   "id": "9707ba8c-036e-4377-b6c1-2578f75eb304",
   "metadata": {},
   "outputs": [
    {
     "data": {
      "text/plain": [
       "19"
      ]
     },
     "execution_count": 24,
     "metadata": {},
     "output_type": "execute_result"
    }
   ],
   "source": [
    "len(vocab)"
   ]
  },
  {
   "cell_type": "code",
   "execution_count": 26,
   "id": "704d6517-1925-4551-a94c-d29f83cce46e",
   "metadata": {},
   "outputs": [
    {
     "data": {
      "text/plain": [
       "['one.txt', 1, 1, 1, 1, 1, 2, 1, 1, 1, 1, 1, 1, 0, 0, 0, 0, 0, 0, 0]"
      ]
     },
     "execution_count": 26,
     "metadata": {},
     "output_type": "execute_result"
    }
   ],
   "source": [
    "one = ['one.txt'] + [0] * len(vocab)\n",
    "\n",
    "with open('one.txt') as file:\n",
    "    words = file.read().lower().split()\n",
    "    \n",
    "for word in words:\n",
    "    one[vocab[word]] += 1\n",
    "one"
   ]
  },
  {
   "cell_type": "code",
   "execution_count": 27,
   "id": "42f2110c-34cd-4796-a1f1-b7030248195f",
   "metadata": {},
   "outputs": [
    {
     "data": {
      "text/plain": [
       "['two.txt', 1, 3, 1, 1, 1, 0, 0, 0, 0, 0, 0, 0, 2, 1, 1, 1, 1, 1, 1]"
      ]
     },
     "execution_count": 27,
     "metadata": {},
     "output_type": "execute_result"
    }
   ],
   "source": [
    "two = ['two.txt'] + [0] * len(vocab)\n",
    "\n",
    "with open('two.txt') as file:\n",
    "    words = file.read().lower().split()\n",
    "    \n",
    "for word in words:\n",
    "    two[vocab[word]] += 1\n",
    "two"
   ]
  },
  {
   "cell_type": "code",
   "execution_count": 28,
   "id": "1a9a1d1d-0576-41ed-926a-081d03230659",
   "metadata": {},
   "outputs": [
    {
     "name": "stdout",
     "output_type": "stream",
     "text": [
      "['one.txt', 1, 1, 1, 1, 1, 2, 1, 1, 1, 1, 1, 1, 0, 0, 0, 0, 0, 0, 0]\n",
      "['two.txt', 1, 3, 1, 1, 1, 0, 0, 0, 0, 0, 0, 0, 2, 1, 1, 1, 1, 1, 1]\n"
     ]
    }
   ],
   "source": [
    "print(one)\n",
    "print(two)"
   ]
  },
  {
   "cell_type": "code",
   "execution_count": null,
   "id": "27dec169-5be6-461b-b27f-43f8743f2d22",
   "metadata": {},
   "outputs": [],
   "source": []
  }
 ],
 "metadata": {
  "kernelspec": {
   "display_name": "Python 3 (ipykernel)",
   "language": "python",
   "name": "python3"
  },
  "language_info": {
   "codemirror_mode": {
    "name": "ipython",
    "version": 3
   },
   "file_extension": ".py",
   "mimetype": "text/x-python",
   "name": "python",
   "nbconvert_exporter": "python",
   "pygments_lexer": "ipython3",
   "version": "3.10.6"
  }
 },
 "nbformat": 4,
 "nbformat_minor": 5
}
