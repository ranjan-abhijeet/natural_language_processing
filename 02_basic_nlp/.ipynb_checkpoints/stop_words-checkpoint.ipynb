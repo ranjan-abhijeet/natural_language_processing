{
 "cells": [
  {
   "cell_type": "code",
   "execution_count": 1,
   "id": "95e6bf54-e995-4e70-a009-24fbf4197433",
   "metadata": {},
   "outputs": [],
   "source": [
    "import spacy"
   ]
  },
  {
   "cell_type": "code",
   "execution_count": 2,
   "id": "fd0529dd-9f21-49c6-b8c5-9157776a48a2",
   "metadata": {},
   "outputs": [],
   "source": [
    "nlp = spacy.load('en_core_web_sm')"
   ]
  },
  {
   "cell_type": "code",
   "execution_count": 3,
   "id": "8afce625-0dbc-4462-87e6-cb782e4ed55e",
   "metadata": {},
   "outputs": [
    {
     "name": "stdout",
     "output_type": "stream",
     "text": [
      "{'below', 'across', 'enough', 'otherwise', 'whom', 'only', 'other', 'keep', 'whether', 'at', 'within', 'themselves', 'last', 'amount', 'some', 'whereby', 'those', 'seems', 'was', 'such', 'nothing', 'anyway', 'two', 'behind', 'onto', 'or', 'former', 'their', '’ll', 'yours', 'hereafter', 'is', 'yet', 'six', '’re', 'all', 'mine', 'there', 'just', 'her', 'cannot', 'still', 'least', 'am', 'should', \"n't\", 'twenty', 'us', 'meanwhile', 'by', 'front', '‘m', 'could', 'except', 'beside', 'formerly', 'have', 'herself', 'toward', 'many', 'thru', 'whole', 'afterwards', 'nevertheless', 'my', 'than', 'would', 'sixty', 'between', 'itself', 'upon', 'its', 'third', 'often', '’m', 'regarding', 'these', 'wherein', 'where', 'name', 'none', 'please', '‘d', 'serious', 'own', 'four', 'also', 'in', 'per', 'never', 'ours', \"'m\", 'he', 'doing', 'after', 'if', 'while', 'because', 'say', 'somewhere', 'else', 'do', 'others', 'here', 'you', 'indeed', 'via', 'very', 'five', 'nor', 'amongst', 'and', 'she', 'go', 'done', 'ca', 'among', 'been', 'anyone', 'using', 'them', 'mostly', 'used', 'anyhow', 'though', 'nobody', 'alone', 'as', 'may', 'get', \"'ll\", 'myself', 'since', 'herein', 'whereupon', 'various', 'can', 'everyone', 'much', 'bottom', 'seeming', 'not', 'so', 'make', 'this', 'hers', 'out', 'first', 'beforehand', 'whenever', 'who', 'yourself', 'everything', 'next', 'hence', 'me', 'become', 'about', 'ourselves', 'how', 'ever', 'towards', 'ten', 'one', 'thereby', 'then', '‘ll', 'namely', 'fifteen', 'during', 'again', 'our', 'above', 'really', 're', 'up', 'does', 'more', 'top', 'besides', 'several', '‘s', 'yourselves', 'the', 'every', 'being', 'that', 'sometime', 'did', 'became', 'due', '‘re', 'unless', 'under', 'twelve', 'therein', 'when', 'part', 'against', 'eight', 'whose', 'over', 'noone', 'through', 'three', 'an', 'empty', 'elsewhere', 'even', 'less', 'almost', 'moreover', 'n’t', 'but', 'too', 'it', 'most', 'nine', 'before', 'neither', 'no', 'quite', 'further', 'already', 'from', 'another', 'any', 'be', 'take', 'thereafter', 'your', 'i', 'fifty', 'him', 'whereafter', 'forty', 'thence', 'beyond', 'full', 'nowhere', 'on', 'anything', 'might', 'however', 'hereupon', \"'s\", 'well', 'along', 'sometimes', 'why', 'whereas', 'same', 'they', 'hereby', \"'d\", '’s', 'whither', 'himself', 'together', 'move', 'down', 'both', 'thus', 'therefore', \"'ve\", 'n‘t', 'few', 'will', 'side', 'always', 'throughout', 'off', 'now', 'somehow', 'had', 'everywhere', 'which', 'made', 'until', 'whence', 'becoming', 'around', 'were', 'has', 'his', 'becomes', 'we', 'into', 'what', 'someone', 'put', 'each', 'something', \"'re\", 'of', 'with', 'thereupon', 'wherever', 'a', 'without', 'eleven', 'back', 'either', 'latter', '‘ve', 'once', 'rather', 'must', '’d', 'anywhere', 'show', 'although', 'are', '’ve', 'give', 'seemed', 'for', 'to', 'hundred', 'whoever', 'seem', 'see', 'latterly', 'whatever', 'perhaps', 'call'}\n"
     ]
    }
   ],
   "source": [
    "print(nlp.Defaults.stop_words)"
   ]
  },
  {
   "cell_type": "code",
   "execution_count": 5,
   "id": "b16a0327-d43c-48e7-9b70-50e48a3d603c",
   "metadata": {},
   "outputs": [
    {
     "data": {
      "text/plain": [
       "True"
      ]
     },
     "execution_count": 5,
     "metadata": {},
     "output_type": "execute_result"
    }
   ],
   "source": [
    "nlp.vocab['is'].is_stop"
   ]
  },
  {
   "cell_type": "code",
   "execution_count": 6,
   "id": "6591d693-e427-4e82-a4e3-c711a3a9265f",
   "metadata": {},
   "outputs": [
    {
     "data": {
      "text/plain": [
       "False"
      ]
     },
     "execution_count": 6,
     "metadata": {},
     "output_type": "execute_result"
    }
   ],
   "source": [
    "nlp.vocab['mystery'].is_stop"
   ]
  },
  {
   "cell_type": "code",
   "execution_count": 7,
   "id": "ea2bc605-8563-4d5b-82ed-034ba9d5bc17",
   "metadata": {},
   "outputs": [],
   "source": [
    "# Adding stop words"
   ]
  },
  {
   "cell_type": "code",
   "execution_count": 8,
   "id": "a5139184-64a9-4ddb-85b8-7b74b814a6d5",
   "metadata": {},
   "outputs": [],
   "source": [
    "nlp.Defaults.stop_words.add('et al')"
   ]
  },
  {
   "cell_type": "code",
   "execution_count": 9,
   "id": "36cefae5-dd0f-4e64-85cc-081511e5d0f0",
   "metadata": {},
   "outputs": [],
   "source": [
    "nlp.vocab['et al'].is_stop = True"
   ]
  },
  {
   "cell_type": "code",
   "execution_count": 10,
   "id": "5ee17337-6b56-43d9-bed1-38963a9b2bc2",
   "metadata": {},
   "outputs": [
    {
     "data": {
      "text/plain": [
       "True"
      ]
     },
     "execution_count": 10,
     "metadata": {},
     "output_type": "execute_result"
    }
   ],
   "source": [
    "nlp.vocab['et al'].is_stop"
   ]
  },
  {
   "cell_type": "code",
   "execution_count": 11,
   "id": "3ea6aa47-3c21-4585-89e7-7292960458cf",
   "metadata": {},
   "outputs": [],
   "source": [
    "nlp.Defaults.stop_words.remove('et al')"
   ]
  },
  {
   "cell_type": "code",
   "execution_count": 12,
   "id": "9a1de533-0dd7-44f6-8182-4a00ff88583d",
   "metadata": {},
   "outputs": [],
   "source": [
    "nlp.vocab['et al'].is_stop = False"
   ]
  },
  {
   "cell_type": "code",
   "execution_count": 13,
   "id": "f81c2d13-a9cd-4be9-978b-8b8b8e66bfc3",
   "metadata": {},
   "outputs": [
    {
     "data": {
      "text/plain": [
       "False"
      ]
     },
     "execution_count": 13,
     "metadata": {},
     "output_type": "execute_result"
    }
   ],
   "source": [
    "nlp.vocab['et al'].is_stop"
   ]
  },
  {
   "cell_type": "code",
   "execution_count": null,
   "id": "f5ad725e-d848-4bf1-85ae-f45efb96e821",
   "metadata": {},
   "outputs": [],
   "source": []
  }
 ],
 "metadata": {
  "kernelspec": {
   "display_name": "Python 3 (ipykernel)",
   "language": "python",
   "name": "python3"
  },
  "language_info": {
   "codemirror_mode": {
    "name": "ipython",
    "version": 3
   },
   "file_extension": ".py",
   "mimetype": "text/x-python",
   "name": "python",
   "nbconvert_exporter": "python",
   "pygments_lexer": "ipython3",
   "version": "3.10.6"
  }
 },
 "nbformat": 4,
 "nbformat_minor": 5
}
