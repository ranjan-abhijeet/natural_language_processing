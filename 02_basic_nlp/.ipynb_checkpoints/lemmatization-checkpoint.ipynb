{
 "cells": [
  {
   "cell_type": "code",
   "execution_count": 1,
   "id": "e99bac78-048a-4cec-adde-72c2be010b42",
   "metadata": {},
   "outputs": [],
   "source": [
    "import spacy"
   ]
  },
  {
   "cell_type": "code",
   "execution_count": 2,
   "id": "41fee9d5-19a3-4ec5-ac49-82975476c7aa",
   "metadata": {},
   "outputs": [],
   "source": [
    "nlp = spacy.load('en_core_web_sm')"
   ]
  },
  {
   "cell_type": "code",
   "execution_count": 3,
   "id": "0a7d3b9e-6ae8-4ec7-b9df-6add5fe13d88",
   "metadata": {},
   "outputs": [],
   "source": [
    "doc1 = nlp(u'I am a runner running in a race because I love to run since I ran yesterday')"
   ]
  },
  {
   "cell_type": "code",
   "execution_count": 6,
   "id": "04ca4f5d-378e-4eec-8bfa-44099ae90174",
   "metadata": {},
   "outputs": [
    {
     "name": "stdout",
     "output_type": "stream",
     "text": [
      "I \t PRON \t I\n",
      "am \t AUX \t be\n",
      "a \t DET \t a\n",
      "runner \t NOUN \t runner\n",
      "running \t VERB \t run\n",
      "in \t ADP \t in\n",
      "a \t DET \t a\n",
      "race \t NOUN \t race\n",
      "because \t SCONJ \t because\n",
      "I \t PRON \t I\n",
      "love \t VERB \t love\n",
      "to \t PART \t to\n",
      "run \t VERB \t run\n",
      "since \t SCONJ \t since\n",
      "I \t PRON \t I\n",
      "ran \t VERB \t run\n",
      "yesterday \t NOUN \t yesterday\n"
     ]
    }
   ],
   "source": [
    "for token in doc1:\n",
    "    print(token.text, '\\t', token.pos_, '\\t', token.lemma_)"
   ]
  },
  {
   "cell_type": "code",
   "execution_count": 9,
   "id": "9b4ae73c-3428-4671-8619-7648e8920aa9",
   "metadata": {},
   "outputs": [
    {
     "ename": "SyntaxError",
     "evalue": "f-string: invalid syntax. Perhaps you forgot a comma? (3387465558.py, line 4)",
     "output_type": "error",
     "traceback": [
      "\u001b[0;36m  Cell \u001b[0;32mIn[9], line 4\u001b[0;36m\u001b[0m\n\u001b[0;31m    print(f\"{token.text:{12}} {token.pos_:{6}} {token.lemma:<{22}} {token.lemma{12}}\")\u001b[0m\n\u001b[0m    ^\u001b[0m\n\u001b[0;31mSyntaxError\u001b[0m\u001b[0;31m:\u001b[0m f-string: invalid syntax. Perhaps you forgot a comma?\n"
     ]
    }
   ],
   "source": [
    "def show_lemmas(text: str):\n",
    "    doc = nlp(text)\n",
    "    for token in doc:\n",
    "        print(f\"{token.text:{12}} {token.pos_:{6}} {token.lemma:<{22}} {token.lemma_}\")"
   ]
  },
  {
   "cell_type": "code",
   "execution_count": null,
   "id": "64ce79bb-2fa1-426d-9d2c-28d838c74daa",
   "metadata": {},
   "outputs": [],
   "source": []
  }
 ],
 "metadata": {
  "kernelspec": {
   "display_name": "Python 3 (ipykernel)",
   "language": "python",
   "name": "python3"
  },
  "language_info": {
   "codemirror_mode": {
    "name": "ipython",
    "version": 3
   },
   "file_extension": ".py",
   "mimetype": "text/x-python",
   "name": "python",
   "nbconvert_exporter": "python",
   "pygments_lexer": "ipython3",
   "version": "3.10.6"
  }
 },
 "nbformat": 4,
 "nbformat_minor": 5
}
