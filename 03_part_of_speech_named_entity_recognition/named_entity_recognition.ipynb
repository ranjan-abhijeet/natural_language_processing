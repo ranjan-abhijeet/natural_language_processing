{
 "cells": [
  {
   "cell_type": "code",
   "execution_count": 1,
   "id": "91df16aa-00f1-401e-8584-b0764988c0eb",
   "metadata": {},
   "outputs": [],
   "source": [
    "import spacy"
   ]
  },
  {
   "cell_type": "code",
   "execution_count": 2,
   "id": "c8ed2281-3b6e-496b-9259-a948a836b0b7",
   "metadata": {},
   "outputs": [],
   "source": [
    "nlp = spacy.load('en_core_web_sm')"
   ]
  },
  {
   "cell_type": "code",
   "execution_count": 8,
   "id": "31ea48c5-efd3-4120-9e6b-e68a74499f9f",
   "metadata": {},
   "outputs": [],
   "source": [
    "def show_ents(doc):\n",
    "    if doc.ents:\n",
    "        for ent in doc.ents:\n",
    "            print(ent.text + ' - ' + ent.label_ + ' - ' + str(spacy.explain(ent.label_)))\n",
    "    else:\n",
    "        print('No entities found')"
   ]
  },
  {
   "cell_type": "code",
   "execution_count": 18,
   "id": "b94553ed-8ca3-469a-bdc4-fe33d0b20659",
   "metadata": {},
   "outputs": [],
   "source": [
    "text = u\"\"\"Since the early 1970s, the health effects of indoor air pollution have been investigated with increasing intensity. Consequently, a large body of literature is now available on diverse aspects of indoor air pollution: sources, concentrations, health effects, engineering, and policy. This review begins with a review of the principal pollutants found in indoor environments and their sources. Subsequently, exposure to indoor air pollutants and health effects are considered, with an emphasis on those indoor air quality problems of greatest concern at present: passive exposure to tobacco smoke, nitrogen dioxide from gas-fueled cooking stoves, formaldehyde exposure, radon daughter exposure, and the diverse health problems encountered by workers in newer sealed office buildings. The review concludes by briefly addressing assessment of indoor air quality, control technology, research needs, and clinical implications.\"\"\""
   ]
  },
  {
   "cell_type": "code",
   "execution_count": 19,
   "id": "48e7d7f4-95a5-465f-ab3c-3f3fa3818013",
   "metadata": {},
   "outputs": [],
   "source": [
    "doc = nlp(text)"
   ]
  },
  {
   "cell_type": "code",
   "execution_count": 20,
   "id": "908a8cb0-c9ba-4eb5-990c-fe9cd512e448",
   "metadata": {},
   "outputs": [
    {
     "name": "stdout",
     "output_type": "stream",
     "text": [
      "the early 1970s - DATE - Absolute or relative dates or periods\n"
     ]
    }
   ],
   "source": [
    "show_ents(doc)"
   ]
  },
  {
   "cell_type": "code",
   "execution_count": 23,
   "id": "1e1f2043-339e-4586-afb4-b6ee4af3da8b",
   "metadata": {},
   "outputs": [],
   "source": [
    "doc = nlp(u'Hi, how are you?')"
   ]
  },
  {
   "cell_type": "code",
   "execution_count": 24,
   "id": "8cd683dc-6821-44d0-bd3d-51b4641d088f",
   "metadata": {},
   "outputs": [
    {
     "name": "stdout",
     "output_type": "stream",
     "text": [
      "No entities found\n"
     ]
    }
   ],
   "source": [
    "show_ents(doc)"
   ]
  },
  {
   "cell_type": "code",
   "execution_count": 25,
   "id": "75cab02a-657a-405d-98b8-8c956bbd8aeb",
   "metadata": {},
   "outputs": [],
   "source": [
    "doc = nlp(u\"May I go to Delhi, India next May to see Qutub Minar?\")"
   ]
  },
  {
   "cell_type": "code",
   "execution_count": 26,
   "id": "88f3f7c7-5ab3-46e0-b460-74e0e8b046b1",
   "metadata": {},
   "outputs": [
    {
     "name": "stdout",
     "output_type": "stream",
     "text": [
      "Delhi - GPE - Countries, cities, states\n",
      "India - GPE - Countries, cities, states\n",
      "next May - DATE - Absolute or relative dates or periods\n",
      "Qutub Minar - PERSON - People, including fictional\n"
     ]
    }
   ],
   "source": [
    "show_ents(doc)"
   ]
  },
  {
   "cell_type": "code",
   "execution_count": 29,
   "id": "dac865c2-fe0a-4ad4-aead-e762bcfd93c1",
   "metadata": {},
   "outputs": [],
   "source": [
    "doc = nlp(u\"Can I please have 10000 dollars of Tata stock?\")"
   ]
  },
  {
   "cell_type": "code",
   "execution_count": 30,
   "id": "c7f42470-0b2c-4b34-b06a-2111c4ab0c38",
   "metadata": {},
   "outputs": [
    {
     "name": "stdout",
     "output_type": "stream",
     "text": [
      "10000 dollars - MONEY - Monetary values, including unit\n",
      "Tata - ORG - Companies, agencies, institutions, etc.\n"
     ]
    }
   ],
   "source": [
    "show_ents(doc)"
   ]
  },
  {
   "cell_type": "code",
   "execution_count": 31,
   "id": "233c932a-2fb2-45dc-b439-2a30570bcfde",
   "metadata": {},
   "outputs": [],
   "source": [
    "doc = nlp(u\"Toluene is a chemical and has can be represented by C7H8. It has cyclic structure.\")"
   ]
  },
  {
   "cell_type": "code",
   "execution_count": 32,
   "id": "871a1121-0616-4531-99e4-27546b54049d",
   "metadata": {},
   "outputs": [
    {
     "name": "stdout",
     "output_type": "stream",
     "text": [
      "Toluene - ORG - Companies, agencies, institutions, etc.\n"
     ]
    }
   ],
   "source": [
    "show_ents(doc)"
   ]
  },
  {
   "cell_type": "code",
   "execution_count": 50,
   "id": "28486c77-3a29-427a-91d7-0537a88a9324",
   "metadata": {},
   "outputs": [],
   "source": [
    "doc = nlp(u\"Tesla to build a P.O.K. factor for $100 million. Is Tesla good?\")"
   ]
  },
  {
   "cell_type": "code",
   "execution_count": 51,
   "id": "0a39ab82-bcb6-4542-a2af-2a73500a3824",
   "metadata": {},
   "outputs": [
    {
     "name": "stdout",
     "output_type": "stream",
     "text": [
      "P.O.K. - ORG - Companies, agencies, institutions, etc.\n",
      "$100 million - MONEY - Monetary values, including unit\n"
     ]
    }
   ],
   "source": [
    "show_ents(doc)"
   ]
  },
  {
   "cell_type": "code",
   "execution_count": 52,
   "id": "90dca1e0-73eb-4bd1-884f-fd9f11326ce9",
   "metadata": {},
   "outputs": [],
   "source": [
    "# adding custom entities"
   ]
  },
  {
   "cell_type": "code",
   "execution_count": 54,
   "id": "647ce943-f18d-4c07-80a4-fb6209233a66",
   "metadata": {},
   "outputs": [],
   "source": [
    "from spacy.tokens import Span"
   ]
  },
  {
   "cell_type": "code",
   "execution_count": 55,
   "id": "bc5f252a-01c2-4730-a017-5e47c06f55fd",
   "metadata": {},
   "outputs": [],
   "source": [
    "ORG = doc.vocab.strings[u\"ORG\"]"
   ]
  },
  {
   "cell_type": "code",
   "execution_count": 56,
   "id": "dc17b14f-3ee2-4d92-b3a0-08251caade4e",
   "metadata": {},
   "outputs": [
    {
     "data": {
      "text/plain": [
       "383"
      ]
     },
     "execution_count": 56,
     "metadata": {},
     "output_type": "execute_result"
    }
   ],
   "source": [
    "ORG"
   ]
  },
  {
   "cell_type": "code",
   "execution_count": 57,
   "id": "8d76cee4-99c0-444a-b572-690e656ef400",
   "metadata": {},
   "outputs": [],
   "source": [
    "new_ent = Span(doc, 0, 1, label=ORG)"
   ]
  },
  {
   "cell_type": "code",
   "execution_count": 58,
   "id": "27bde98b-914a-4d3b-95f6-211b6ddc897d",
   "metadata": {},
   "outputs": [],
   "source": [
    "doc.ents = list(doc.ents) + [new_ent]"
   ]
  },
  {
   "cell_type": "code",
   "execution_count": 59,
   "id": "01273ff8-b7a5-4271-b6f5-5a92317afc9d",
   "metadata": {},
   "outputs": [
    {
     "name": "stdout",
     "output_type": "stream",
     "text": [
      "Tesla - ORG - Companies, agencies, institutions, etc.\n",
      "P.O.K. - ORG - Companies, agencies, institutions, etc.\n",
      "$100 million - MONEY - Monetary values, including unit\n"
     ]
    }
   ],
   "source": [
    "show_ents(doc)"
   ]
  },
  {
   "cell_type": "code",
   "execution_count": null,
   "id": "7cd352e3-3091-4ffa-8f35-2524ffd628bf",
   "metadata": {},
   "outputs": [],
   "source": []
  },
  {
   "cell_type": "code",
   "execution_count": 60,
   "id": "d9e9d787-3168-4623-aa67-81cfb444abc5",
   "metadata": {},
   "outputs": [],
   "source": [
    "# Adding multiple phrases as NER"
   ]
  },
  {
   "cell_type": "code",
   "execution_count": 61,
   "id": "9892d5e2-69d8-4cf3-bdb3-1dbe7dc39fd7",
   "metadata": {},
   "outputs": [],
   "source": [
    "doc = nlp(u\"Our company created a brand new vacuum cleaner.\"\n",
    "         u\"This new vacuum-cleaner is best in business\")"
   ]
  },
  {
   "cell_type": "code",
   "execution_count": 64,
   "id": "57dd9cde-f7df-4399-854e-47ff2c5b56a2",
   "metadata": {},
   "outputs": [
    {
     "name": "stdout",
     "output_type": "stream",
     "text": [
      "No entities found\n"
     ]
    }
   ],
   "source": [
    "show_ents(doc)"
   ]
  },
  {
   "cell_type": "code",
   "execution_count": 65,
   "id": "e2d7ec8e-f729-44e8-a070-68765dc938bf",
   "metadata": {},
   "outputs": [],
   "source": [
    "# adding vacuum cleaner and vacuum-cleaner as entities"
   ]
  },
  {
   "cell_type": "code",
   "execution_count": 66,
   "id": "12827d69-ec97-430d-8e1a-01ac10899d53",
   "metadata": {},
   "outputs": [],
   "source": [
    "from spacy.matcher import PhraseMatcher"
   ]
  },
  {
   "cell_type": "code",
   "execution_count": 67,
   "id": "d9caa01b-0093-466e-9675-0a0e23b04215",
   "metadata": {},
   "outputs": [],
   "source": [
    "matcher = PhraseMatcher(nlp.vocab)"
   ]
  },
  {
   "cell_type": "code",
   "execution_count": 68,
   "id": "633b6b07-2ba3-4110-bd55-79856de2fe31",
   "metadata": {},
   "outputs": [],
   "source": [
    "phrase_list = ['vacuum cleaner', 'vacuum-cleaner']"
   ]
  },
  {
   "cell_type": "code",
   "execution_count": 69,
   "id": "65c38056-c5db-4872-afa4-9fc29b019f4b",
   "metadata": {},
   "outputs": [],
   "source": [
    "phrase_patterns = [nlp(text) for text in phrase_list]"
   ]
  },
  {
   "cell_type": "code",
   "execution_count": 70,
   "id": "b460e23a-4bfd-49ae-bb57-740f49e12f0d",
   "metadata": {},
   "outputs": [],
   "source": [
    "matcher.add('VacuumCleaner', phrase_patterns)"
   ]
  },
  {
   "cell_type": "code",
   "execution_count": 71,
   "id": "fbf8f365-c233-4acf-8604-17b44911449a",
   "metadata": {},
   "outputs": [],
   "source": [
    "found_matches = matcher(doc)"
   ]
  },
  {
   "cell_type": "code",
   "execution_count": 72,
   "id": "5e2184f7-34f8-464d-ba70-6dc67106728b",
   "metadata": {},
   "outputs": [
    {
     "data": {
      "text/plain": [
       "[(6066037630898584017, 6, 8), (6066037630898584017, 11, 14)]"
      ]
     },
     "execution_count": 72,
     "metadata": {},
     "output_type": "execute_result"
    }
   ],
   "source": [
    "found_matches"
   ]
  },
  {
   "cell_type": "code",
   "execution_count": 73,
   "id": "ee6fbfb2-52a6-4507-b2d3-c5f7ba5a533d",
   "metadata": {},
   "outputs": [],
   "source": [
    "from spacy.tokens import Span"
   ]
  },
  {
   "cell_type": "code",
   "execution_count": 74,
   "id": "d2550f33-4fea-4f09-a36b-90d241d1eea6",
   "metadata": {},
   "outputs": [],
   "source": [
    "PRODUCT = doc.vocab.strings[u\"PRODUCT\"]"
   ]
  },
  {
   "cell_type": "code",
   "execution_count": 76,
   "id": "dfbcc278-74a9-4854-af34-e4a2481f1132",
   "metadata": {},
   "outputs": [
    {
     "name": "stdout",
     "output_type": "stream",
     "text": [
      "vacuum cleaner - PRODUCT - Objects, vehicles, foods, etc. (not services)\n",
      "vacuum-cleaner - PRODUCT - Objects, vehicles, foods, etc. (not services)\n"
     ]
    }
   ],
   "source": [
    "for match_id, start, end in found_matches:\n",
    "    new_ent = Span(doc, start, end, label=PRODUCT)\n",
    "    doc.ents = list(doc.ents) + [new_ent]\n",
    "show_ents(doc)"
   ]
  },
  {
   "cell_type": "code",
   "execution_count": 77,
   "id": "4cb79d6a-8736-47d9-88d0-5aafbb1fe078",
   "metadata": {},
   "outputs": [],
   "source": [
    "doc = nlp(u\"Originally I paid $29.95 for this car toy, but now it is marked down by $10.\")"
   ]
  },
  {
   "cell_type": "code",
   "execution_count": 78,
   "id": "78a74581-571c-41f8-9b55-c4db690874cb",
   "metadata": {},
   "outputs": [
    {
     "name": "stdout",
     "output_type": "stream",
     "text": [
      "29.95 - MONEY - Monetary values, including unit\n",
      "10 - MONEY - Monetary values, including unit\n"
     ]
    }
   ],
   "source": [
    "show_ents(doc)"
   ]
  },
  {
   "cell_type": "code",
   "execution_count": 79,
   "id": "e5f009a2-619f-4a4c-9408-a45ac2313b3a",
   "metadata": {},
   "outputs": [
    {
     "data": {
      "text/plain": [
       "[29.95, 10]"
      ]
     },
     "execution_count": 79,
     "metadata": {},
     "output_type": "execute_result"
    }
   ],
   "source": [
    "[ent for ent in doc.ents if ent.label_ == \"MONEY\"]"
   ]
  },
  {
   "cell_type": "code",
   "execution_count": null,
   "id": "ef2c4cdb-4d4e-4afd-b48a-3f7ad7e3f409",
   "metadata": {},
   "outputs": [],
   "source": []
  }
 ],
 "metadata": {
  "kernelspec": {
   "display_name": "Python 3 (ipykernel)",
   "language": "python",
   "name": "python3"
  },
  "language_info": {
   "codemirror_mode": {
    "name": "ipython",
    "version": 3
   },
   "file_extension": ".py",
   "mimetype": "text/x-python",
   "name": "python",
   "nbconvert_exporter": "python",
   "pygments_lexer": "ipython3",
   "version": "3.10.6"
  }
 },
 "nbformat": 4,
 "nbformat_minor": 5
}
