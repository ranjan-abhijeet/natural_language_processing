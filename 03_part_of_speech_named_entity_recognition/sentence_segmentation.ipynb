{
 "cells": [
  {
   "cell_type": "code",
   "execution_count": 1,
   "id": "c76895aa-aa93-4af5-ac27-1eff9a30dc69",
   "metadata": {},
   "outputs": [],
   "source": [
    "import spacy"
   ]
  },
  {
   "cell_type": "code",
   "execution_count": 2,
   "id": "1cb72c7c-57ff-4529-aa05-b855f041189d",
   "metadata": {},
   "outputs": [],
   "source": [
    "nlp = spacy.load('en_core_web_sm')"
   ]
  },
  {
   "cell_type": "code",
   "execution_count": 3,
   "id": "8288c194-38e5-41eb-af09-db8221d9d94f",
   "metadata": {},
   "outputs": [],
   "source": [
    "text = \"This is the first sentence. This is the second sentence. This is the third sentence.\""
   ]
  },
  {
   "cell_type": "code",
   "execution_count": 4,
   "id": "abb40baf-2b8a-48d4-94c5-cf6937053e29",
   "metadata": {},
   "outputs": [],
   "source": [
    "doc = nlp(text)"
   ]
  },
  {
   "cell_type": "code",
   "execution_count": 6,
   "id": "01f53cc1-72f6-45c1-a840-3ada312e72ad",
   "metadata": {},
   "outputs": [
    {
     "name": "stdout",
     "output_type": "stream",
     "text": [
      "this be the first sentence.\n",
      "this be the second sentence.\n",
      "this be the third sentence.\n"
     ]
    }
   ],
   "source": [
    "for sentence in doc.sents:\n",
    "    print(sentence)"
   ]
  },
  {
   "cell_type": "code",
   "execution_count": 7,
   "id": "f76e7f7d-b91d-4428-b4c7-8d2221f93b79",
   "metadata": {},
   "outputs": [
    {
     "data": {
      "text/plain": [
       "This is the first sentence."
      ]
     },
     "execution_count": 7,
     "metadata": {},
     "output_type": "execute_result"
    }
   ],
   "source": [
    "list(doc.sents)[0]"
   ]
  },
  {
   "cell_type": "code",
   "execution_count": 8,
   "id": "90c0b3a1-4c6f-4f11-86e2-5c6ee81cd13b",
   "metadata": {},
   "outputs": [],
   "source": [
    "doc = nlp(u'\"Management is doing the right things; leadership is doing the right things.\" -Peter Drucker')"
   ]
  },
  {
   "cell_type": "code",
   "execution_count": 9,
   "id": "233b4335-9f0b-47ab-81b8-707a4398c3b7",
   "metadata": {},
   "outputs": [
    {
     "data": {
      "text/plain": [
       "'\"Management is doing the right things; leadership is doing the right things.\" -Peter Drucker'"
      ]
     },
     "execution_count": 9,
     "metadata": {},
     "output_type": "execute_result"
    }
   ],
   "source": [
    "doc.text"
   ]
  },
  {
   "cell_type": "code",
   "execution_count": 13,
   "id": "10b6655d-a64c-48e6-ab54-3fa292503058",
   "metadata": {},
   "outputs": [
    {
     "name": "stdout",
     "output_type": "stream",
     "text": [
      "\"Management is doing the right things; leadership is doing the right things.\"\n",
      "\n",
      "-Peter Drucker\n",
      "\n"
     ]
    }
   ],
   "source": [
    "# Two difference sentences are stored. We may want to change it based on our requirement.\n",
    "for sentence in doc.sents:\n",
    "    print(sentence)\n",
    "    print()"
   ]
  },
  {
   "cell_type": "code",
   "execution_count": null,
   "id": "b11c8f71-745b-4098-8b3f-0da2f914c4b1",
   "metadata": {},
   "outputs": [],
   "source": []
  },
  {
   "cell_type": "code",
   "execution_count": 36,
   "id": "b7d800c6-6c1e-46e1-a429-93bce52433b6",
   "metadata": {},
   "outputs": [
    {
     "data": {
      "text/plain": [
       "'\\nAdd a SEGMENTATION rule.\\n'"
      ]
     },
     "execution_count": 36,
     "metadata": {},
     "output_type": "execute_result"
    }
   ],
   "source": [
    "\"\"\"\n",
    "Add a SEGMENTATION rule.\n",
    "\"\"\""
   ]
  },
  {
   "cell_type": "code",
   "execution_count": 20,
   "id": "2713334c-8b4a-4f4f-b0fd-1d3bc4be5e63",
   "metadata": {},
   "outputs": [],
   "source": [
    "from spacy import Language"
   ]
  },
  {
   "cell_type": "code",
   "execution_count": 23,
   "id": "591e001c-d54e-4c49-a124-90f0b73e763d",
   "metadata": {},
   "outputs": [],
   "source": [
    "@Language.component(\"boundaries\")\n",
    "def set_custom_boundaries(doc):\n",
    "    for token in doc[: -1]:\n",
    "        if token.text == ';':\n",
    "            doc[token.i+1].is_sent_start = True\n",
    "    return doc"
   ]
  },
  {
   "cell_type": "code",
   "execution_count": 26,
   "id": "8278b85d-3b61-49ac-80b3-ee7309a7e44d",
   "metadata": {},
   "outputs": [
    {
     "data": {
      "text/plain": [
       "['tok2vec', 'tagger', 'parser', 'attribute_ruler', 'lemmatizer', 'ner']"
      ]
     },
     "execution_count": 26,
     "metadata": {},
     "output_type": "execute_result"
    }
   ],
   "source": [
    "# Current pipeline\n",
    "nlp.pipe_names"
   ]
  },
  {
   "cell_type": "code",
   "execution_count": 27,
   "id": "d3b0b57a-9c1d-415b-beef-e59ad70886b8",
   "metadata": {},
   "outputs": [
    {
     "data": {
      "text/plain": [
       "<function __main__.set_custom_boundaries(doc)>"
      ]
     },
     "execution_count": 27,
     "metadata": {},
     "output_type": "execute_result"
    }
   ],
   "source": [
    "nlp.add_pipe('boundaries', before='parser')"
   ]
  },
  {
   "cell_type": "code",
   "execution_count": 30,
   "id": "7778caa8-d4fc-4b8b-b15c-acdc9ab0135d",
   "metadata": {},
   "outputs": [
    {
     "data": {
      "text/plain": [
       "['tok2vec',\n",
       " 'tagger',\n",
       " 'boundaries',\n",
       " 'parser',\n",
       " 'attribute_ruler',\n",
       " 'lemmatizer',\n",
       " 'ner']"
      ]
     },
     "execution_count": 30,
     "metadata": {},
     "output_type": "execute_result"
    }
   ],
   "source": [
    "# updated pipeline\n",
    "nlp.pipe_names"
   ]
  },
  {
   "cell_type": "code",
   "execution_count": 33,
   "id": "29caf8de-9fcb-47f9-b3f3-247937f35c61",
   "metadata": {},
   "outputs": [],
   "source": [
    "doc2 = nlp(u'\"Management is doing the right things; leadership is doing the right things.\" -Peter Drucker')"
   ]
  },
  {
   "cell_type": "code",
   "execution_count": 34,
   "id": "603eb8d4-3fc0-441e-8846-984d9596228a",
   "metadata": {},
   "outputs": [
    {
     "name": "stdout",
     "output_type": "stream",
     "text": [
      "\"Management is doing the right things;\n",
      "leadership is doing the right things.\"\n",
      "-Peter Drucker\n"
     ]
    }
   ],
   "source": [
    "for sent in doc2.sents:\n",
    "    print(sent)"
   ]
  },
  {
   "cell_type": "code",
   "execution_count": null,
   "id": "9f476ffb-afa4-408b-bda1-db7020e69cd9",
   "metadata": {},
   "outputs": [],
   "source": []
  },
  {
   "cell_type": "code",
   "execution_count": 35,
   "id": "5a7e1dd3-b643-4f46-a427-dfe61f21d044",
   "metadata": {},
   "outputs": [
    {
     "data": {
      "text/plain": [
       "'\\nChange the SEGMENTATION rule. Changing the default rules\\n'"
      ]
     },
     "execution_count": 35,
     "metadata": {},
     "output_type": "execute_result"
    }
   ],
   "source": [
    "\"\"\"\n",
    "Change the SEGMENTATION rule. Changing the default rules\n",
    "\"\"\""
   ]
  },
  {
   "cell_type": "code",
   "execution_count": 75,
   "id": "73421ebb-c50f-4de2-96d1-3459257ca7a3",
   "metadata": {},
   "outputs": [],
   "source": [
    "nlp = spacy.load('en_core_web_sm')"
   ]
  },
  {
   "cell_type": "code",
   "execution_count": 76,
   "id": "2556c879-fe3c-4c01-a9d5-614ef59f9b54",
   "metadata": {},
   "outputs": [],
   "source": [
    "text = u\"This is a sentence. This is another. \\n\\nThis is a \\nthird sentence.\""
   ]
  },
  {
   "cell_type": "code",
   "execution_count": 77,
   "id": "456bfa86-9dcf-47ee-8622-08f1b9b6c535",
   "metadata": {},
   "outputs": [
    {
     "name": "stdout",
     "output_type": "stream",
     "text": [
      "This is a sentence. This is another. \n",
      "\n",
      "This is a \n",
      "third sentence.\n"
     ]
    }
   ],
   "source": [
    "print(text)"
   ]
  },
  {
   "cell_type": "code",
   "execution_count": 78,
   "id": "d80a920d-3428-40fb-89a3-b4cf40ee6155",
   "metadata": {},
   "outputs": [],
   "source": [
    "doc = nlp(text)"
   ]
  },
  {
   "cell_type": "code",
   "execution_count": 79,
   "id": "1ba15721-be42-42a3-95c8-558a0f47ed36",
   "metadata": {},
   "outputs": [
    {
     "name": "stdout",
     "output_type": "stream",
     "text": [
      "--> This is a sentence. This is another. \n",
      "\n",
      "This is a \n",
      "third sentence.\n",
      "--> This is a sentence. This is another. \n",
      "\n",
      "This is a \n",
      "third sentence.\n",
      "--> This is a sentence. This is another. \n",
      "\n",
      "This is a \n",
      "third sentence.\n",
      "--> This is a sentence. This is another. \n",
      "\n",
      "This is a \n",
      "third sentence.\n"
     ]
    }
   ],
   "source": [
    "for sentence in doc.sents:\n",
    "    print(\"-->\", doc)"
   ]
  },
  {
   "cell_type": "code",
   "execution_count": 80,
   "id": "aa77a965-16a0-43de-ab47-3a7facad4ae1",
   "metadata": {},
   "outputs": [
    {
     "data": {
      "text/plain": [
       "<spacy.pipeline.sentencizer.Sentencizer at 0x7f06411e0040>"
      ]
     },
     "execution_count": 80,
     "metadata": {},
     "output_type": "execute_result"
    }
   ],
   "source": [
    "# CHANGING THE RULES\n",
    "from spacy.pipeline import Sentencizer\n",
    "\n",
    "punct_marks = [\"\\n\", \"\\n\\n\"]\n",
    "config = {\"punct_chars\": punct_marks}\n",
    "nlp.add_pipe(\"sentencizer\", config=config, before='parser')"
   ]
  },
  {
   "cell_type": "code",
   "execution_count": 81,
   "id": "720b5691-2ebe-4425-9db3-2b39ae3dfcdf",
   "metadata": {},
   "outputs": [],
   "source": [
    "doc = nlp(text)"
   ]
  },
  {
   "cell_type": "code",
   "execution_count": 82,
   "id": "41bc049c-722d-4ce0-9a53-2249a75395eb",
   "metadata": {},
   "outputs": [
    {
     "name": "stdout",
     "output_type": "stream",
     "text": [
      "---> This is a sentence. This is another. \n",
      "\n",
      "\n",
      "---> This is a \n",
      "\n",
      "---> third sentence.\n"
     ]
    }
   ],
   "source": [
    "for sentence in doc.sents:\n",
    "    print(\"--->\", sentence)"
   ]
  },
  {
   "cell_type": "code",
   "execution_count": null,
   "id": "44a23f6f-9cfc-4c2a-bcb9-2a51508a6fc7",
   "metadata": {},
   "outputs": [],
   "source": []
  }
 ],
 "metadata": {
  "kernelspec": {
   "display_name": "Python 3 (ipykernel)",
   "language": "python",
   "name": "python3"
  },
  "language_info": {
   "codemirror_mode": {
    "name": "ipython",
    "version": 3
   },
   "file_extension": ".py",
   "mimetype": "text/x-python",
   "name": "python",
   "nbconvert_exporter": "python",
   "pygments_lexer": "ipython3",
   "version": "3.10.6"
  }
 },
 "nbformat": 4,
 "nbformat_minor": 5
}
